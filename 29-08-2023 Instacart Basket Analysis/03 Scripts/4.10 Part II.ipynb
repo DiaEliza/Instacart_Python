{
 "cells": [
  {
   "cell_type": "markdown",
   "id": "60409ad6",
   "metadata": {},
   "source": [
    "# Importing Libraries"
   ]
  },
  {
   "cell_type": "code",
   "execution_count": 1,
   "id": "c5a43e0a",
   "metadata": {},
   "outputs": [],
   "source": [
    "# importing libraries\n",
    "\n",
    "import pandas as pd\n",
    "import numpy as np\n",
    "import os\n",
    "import matplotlib.pyplot as plt\n",
    "import seaborn as sns\n",
    "import scipy"
   ]
  },
  {
   "cell_type": "code",
   "execution_count": 2,
   "id": "762e8d69",
   "metadata": {},
   "outputs": [],
   "source": [
    "# Creating path for df\n",
    "path = r\"C:\\Users\\Artemis07\\Downloads\\29-08-2023 Instacart Basket Analysis\""
   ]
  },
  {
   "cell_type": "code",
   "execution_count": 3,
   "id": "301b270a",
   "metadata": {},
   "outputs": [],
   "source": [
    "#importing df\n",
    "instacart_merged = pd.read_pickle(os.path.join(path, '02 Data', 'Prepared Data', 'orders_products_customer_merge.pkl'))"
   ]
  },
  {
   "cell_type": "markdown",
   "id": "3e82ea30",
   "metadata": {},
   "source": [
    "## Creating Customer profile\n",
    "Marital Status and number of Dependents"
   ]
  },
  {
   "cell_type": "code",
   "execution_count": 4,
   "id": "1f210234",
   "metadata": {},
   "outputs": [
    {
     "data": {
      "text/plain": [
       "Index(['order_id', 'user_id', 'eval_set', 'order_number', 'order_dow',\n",
       "       'order_hour_of_day', 'days_since_prior_order', 'product_id',\n",
       "       'add_to_cart_order', 'reordered', 'product_name', 'aisle_id',\n",
       "       'department_id', 'prices', '_merge', 'price_range_loc', 'busiest_day',\n",
       "       'busiest_days', 'busiest_period_of_day', 'max_order', 'loyalty_flag',\n",
       "       'average_price', 'spending_flag', 'median_orders',\n",
       "       'order_frequency_flag', 'gender', 'state', 'age', 'date_joined',\n",
       "       'num_of_dependants', 'marital_status', 'income', 'region',\n",
       "       'activity_flag'],\n",
       "      dtype='object')"
      ]
     },
     "execution_count": 4,
     "metadata": {},
     "output_type": "execute_result"
    }
   ],
   "source": [
    "instacart_merged.columns"
   ]
  },
  {
   "cell_type": "code",
   "execution_count": 5,
   "id": "78b30c7a",
   "metadata": {},
   "outputs": [
    {
     "data": {
      "text/plain": [
       "marital_status\n",
       "married                             22756753\n",
       "single                               5325691\n",
       "divorced/widowed                     2771812\n",
       "living with parents and siblings     1550603\n",
       "Name: count, dtype: int64"
      ]
     },
     "execution_count": 5,
     "metadata": {},
     "output_type": "execute_result"
    }
   ],
   "source": [
    "instacart_merged['marital_status'].value_counts(dropna = False)"
   ]
  },
  {
   "cell_type": "code",
   "execution_count": 6,
   "id": "0dadc136",
   "metadata": {},
   "outputs": [
    {
     "data": {
      "text/plain": [
       "num_of_dependants\n",
       "3    8135109\n",
       "0    8097503\n",
       "2    8091143\n",
       "1    8081104\n",
       "Name: count, dtype: int64"
      ]
     },
     "execution_count": 6,
     "metadata": {},
     "output_type": "execute_result"
    }
   ],
   "source": [
    "instacart_merged['num_of_dependants'].value_counts(dropna = False)"
   ]
  },
  {
   "cell_type": "code",
   "execution_count": 7,
   "id": "5954c1cd",
   "metadata": {},
   "outputs": [],
   "source": [
    "#Creating an marital status and number of dependents crosstab as family_profile\n",
    "family_profile = pd.crosstab(instacart_merged['marital_status'], instacart_merged['num_of_dependants'], dropna = False)"
   ]
  },
  {
   "cell_type": "code",
   "execution_count": 8,
   "id": "60ca2d1f",
   "metadata": {},
   "outputs": [
    {
     "data": {
      "text/html": [
       "<div>\n",
       "<style scoped>\n",
       "    .dataframe tbody tr th:only-of-type {\n",
       "        vertical-align: middle;\n",
       "    }\n",
       "\n",
       "    .dataframe tbody tr th {\n",
       "        vertical-align: top;\n",
       "    }\n",
       "\n",
       "    .dataframe thead th {\n",
       "        text-align: right;\n",
       "    }\n",
       "</style>\n",
       "<table border=\"1\" class=\"dataframe\">\n",
       "  <thead>\n",
       "    <tr style=\"text-align: right;\">\n",
       "      <th>num_of_dependants</th>\n",
       "      <th>0</th>\n",
       "      <th>1</th>\n",
       "      <th>2</th>\n",
       "      <th>3</th>\n",
       "    </tr>\n",
       "    <tr>\n",
       "      <th>marital_status</th>\n",
       "      <th></th>\n",
       "      <th></th>\n",
       "      <th></th>\n",
       "      <th></th>\n",
       "    </tr>\n",
       "  </thead>\n",
       "  <tbody>\n",
       "    <tr>\n",
       "      <th>divorced/widowed</th>\n",
       "      <td>2771812</td>\n",
       "      <td>0</td>\n",
       "      <td>0</td>\n",
       "      <td>0</td>\n",
       "    </tr>\n",
       "    <tr>\n",
       "      <th>living with parents and siblings</th>\n",
       "      <td>0</td>\n",
       "      <td>530200</td>\n",
       "      <td>507963</td>\n",
       "      <td>512440</td>\n",
       "    </tr>\n",
       "    <tr>\n",
       "      <th>married</th>\n",
       "      <td>0</td>\n",
       "      <td>7550904</td>\n",
       "      <td>7583180</td>\n",
       "      <td>7622669</td>\n",
       "    </tr>\n",
       "    <tr>\n",
       "      <th>single</th>\n",
       "      <td>5325691</td>\n",
       "      <td>0</td>\n",
       "      <td>0</td>\n",
       "      <td>0</td>\n",
       "    </tr>\n",
       "  </tbody>\n",
       "</table>\n",
       "</div>"
      ],
      "text/plain": [
       "num_of_dependants                       0        1        2        3\n",
       "marital_status                                                      \n",
       "divorced/widowed                  2771812        0        0        0\n",
       "living with parents and siblings        0   530200   507963   512440\n",
       "married                                 0  7550904  7583180  7622669\n",
       "single                            5325691        0        0        0"
      ]
     },
     "execution_count": 8,
     "metadata": {},
     "output_type": "execute_result"
    }
   ],
   "source": [
    "family_profile"
   ]
  },
  {
   "cell_type": "markdown",
   "id": "1bd9d507",
   "metadata": {},
   "source": [
    "__Creating fam_profile__\n",
    "\n",
    "_Single Adult: single &/or divorced/widowed without dependents_\n",
    "\n",
    "_Married with children: married with 1+ dependent_\n",
    "\n",
    "_Young Adult: living with parents and siblings with 1+ dependent_"
   ]
  },
  {
   "cell_type": "code",
   "execution_count": 9,
   "id": "631d098f",
   "metadata": {},
   "outputs": [],
   "source": [
    "#Creating fam_profile flag for Single Adults\n",
    "instacart_merged.loc[(instacart_merged['marital_status'].isin(['single', 'divorced/widowed']), 'fam_profile')] = 'Single Adult'"
   ]
  },
  {
   "cell_type": "code",
   "execution_count": 10,
   "id": "e8ac7836",
   "metadata": {},
   "outputs": [],
   "source": [
    "#Creating fam_profile flag for Married with children\n",
    "instacart_merged.loc[(instacart_merged['marital_status'].isin(['married']), 'fam_profile')] = 'Married with children'"
   ]
  },
  {
   "cell_type": "code",
   "execution_count": 11,
   "id": "ccdbce6d",
   "metadata": {},
   "outputs": [],
   "source": [
    "#Creating fam_profile flag for Single Adult \n",
    "instacart_merged.loc[(instacart_merged['marital_status'].isin(['living with parents and siblings']), 'fam_profile')] = 'Young Adult'"
   ]
  },
  {
   "cell_type": "code",
   "execution_count": 12,
   "id": "0cb60073",
   "metadata": {},
   "outputs": [],
   "source": [
    "#Creating fam_profile flag for Single Adult \n",
    "instacart_merged.loc[(instacart_merged['marital_status'].isin(['living with parents and siblings']), 'fam_profile')] = 'Young Adult'"
   ]
  },
  {
   "cell_type": "code",
   "execution_count": 13,
   "id": "a0d89c7e",
   "metadata": {},
   "outputs": [
    {
     "data": {
      "text/plain": [
       "fam_profile\n",
       "Married with children    22756753\n",
       "Single Adult              8097503\n",
       "Young Adult               1550603\n",
       "Name: count, dtype: int64"
      ]
     },
     "execution_count": 13,
     "metadata": {},
     "output_type": "execute_result"
    }
   ],
   "source": [
    "#Checking frequency of fam_profile flag\n",
    "instacart_merged['fam_profile'].value_counts(dropna = False)"
   ]
  },
  {
   "cell_type": "code",
   "execution_count": 14,
   "id": "adf9e861",
   "metadata": {},
   "outputs": [
    {
     "data": {
      "text/plain": [
       "<bound method PlotAccessor.bar of <pandas.plotting._core.PlotAccessor object at 0x0000018DD31333D0>>"
      ]
     },
     "execution_count": 14,
     "metadata": {},
     "output_type": "execute_result"
    }
   ],
   "source": [
    "#Creating a bar chart with fam_profile flag\n",
    "instacart_merged['fam_profile'].value_counts().plot.bar"
   ]
  },
  {
   "cell_type": "code",
   "execution_count": 15,
   "id": "e6bbe6bd",
   "metadata": {},
   "outputs": [
    {
     "data": {
      "text/plain": [
       "Text(0, 0.5, 'Frequency')"
      ]
     },
     "execution_count": 15,
     "metadata": {},
     "output_type": "execute_result"
    },
    {
     "data": {
      "image/png": "[encoded data removed]",
      "text/plain": [
       "<Figure size 640x480 with 1 Axes>"
      ]
     },
     "metadata": {},
     "output_type": "display_data"
    }
   ],
   "source": [
    "#Creating chart\n",
    "bar_fam_profile = instacart_merged['fam_profile'].value_counts().sort_index().plot(kind = 'bar', stacked = False, rot = 0, color = ['rebeccapurple', 'mediumorchid', 'thistle'])\n",
    "plt.title(\"Customers Family Status\", fontsize = 16)\n",
    "plt.xlabel(\"Family Status Groups\", fontsize = 12)\n",
    "plt.ylabel(\"Frequency\", fontsize = 12)"
   ]
  },
  {
   "cell_type": "code",
   "execution_count": 16,
   "id": "abe56f1b",
   "metadata": {},
   "outputs": [],
   "source": [
    "# Exporting Customer Family Status bar chart into visualizations folder\n",
    "bar_fam_profile.figure.savefig(os.path.join(path, '04 Analysis','Visualizations', 'customer_family_status.png'))"
   ]
  },
  {
   "cell_type": "markdown",
   "id": "5ddb55c7",
   "metadata": {},
   "source": [
    "## Customer profile- Department goods"
   ]
  },
  {
   "cell_type": "code",
   "execution_count": 17,
   "id": "89ae968b",
   "metadata": {},
   "outputs": [],
   "source": [
    "#Importing departments wrangled from Prepared Data \n",
    "df_dept = pd.read_csv(os. path. join(path, '02 Data', 'Prepared Data', 'departments_wrangled.csv' ))"
   ]
  },
  {
   "cell_type": "code",
   "execution_count": 18,
   "id": "76840f4b",
   "metadata": {},
   "outputs": [
    {
     "data": {
      "text/html": [
       "<div>\n",
       "<style scoped>\n",
       "    .dataframe tbody tr th:only-of-type {\n",
       "        vertical-align: middle;\n",
       "    }\n",
       "\n",
       "    .dataframe tbody tr th {\n",
       "        vertical-align: top;\n",
       "    }\n",
       "\n",
       "    .dataframe thead th {\n",
       "        text-align: right;\n",
       "    }\n",
       "</style>\n",
       "<table border=\"1\" class=\"dataframe\">\n",
       "  <thead>\n",
       "    <tr style=\"text-align: right;\">\n",
       "      <th></th>\n",
       "      <th>Unnamed: 0</th>\n",
       "      <th>department</th>\n",
       "    </tr>\n",
       "  </thead>\n",
       "  <tbody>\n",
       "    <tr>\n",
       "      <th>0</th>\n",
       "      <td>1</td>\n",
       "      <td>frozen</td>\n",
       "    </tr>\n",
       "    <tr>\n",
       "      <th>1</th>\n",
       "      <td>2</td>\n",
       "      <td>other</td>\n",
       "    </tr>\n",
       "    <tr>\n",
       "      <th>2</th>\n",
       "      <td>3</td>\n",
       "      <td>bakery</td>\n",
       "    </tr>\n",
       "    <tr>\n",
       "      <th>3</th>\n",
       "      <td>4</td>\n",
       "      <td>produce</td>\n",
       "    </tr>\n",
       "    <tr>\n",
       "      <th>4</th>\n",
       "      <td>5</td>\n",
       "      <td>alcohol</td>\n",
       "    </tr>\n",
       "    <tr>\n",
       "      <th>5</th>\n",
       "      <td>6</td>\n",
       "      <td>international</td>\n",
       "    </tr>\n",
       "    <tr>\n",
       "      <th>6</th>\n",
       "      <td>7</td>\n",
       "      <td>beverages</td>\n",
       "    </tr>\n",
       "    <tr>\n",
       "      <th>7</th>\n",
       "      <td>8</td>\n",
       "      <td>pets</td>\n",
       "    </tr>\n",
       "    <tr>\n",
       "      <th>8</th>\n",
       "      <td>9</td>\n",
       "      <td>dry goods pasta</td>\n",
       "    </tr>\n",
       "    <tr>\n",
       "      <th>9</th>\n",
       "      <td>10</td>\n",
       "      <td>bulk</td>\n",
       "    </tr>\n",
       "    <tr>\n",
       "      <th>10</th>\n",
       "      <td>11</td>\n",
       "      <td>personal care</td>\n",
       "    </tr>\n",
       "    <tr>\n",
       "      <th>11</th>\n",
       "      <td>12</td>\n",
       "      <td>meat seafood</td>\n",
       "    </tr>\n",
       "    <tr>\n",
       "      <th>12</th>\n",
       "      <td>13</td>\n",
       "      <td>pantry</td>\n",
       "    </tr>\n",
       "    <tr>\n",
       "      <th>13</th>\n",
       "      <td>14</td>\n",
       "      <td>breakfast</td>\n",
       "    </tr>\n",
       "    <tr>\n",
       "      <th>14</th>\n",
       "      <td>15</td>\n",
       "      <td>canned goods</td>\n",
       "    </tr>\n",
       "    <tr>\n",
       "      <th>15</th>\n",
       "      <td>16</td>\n",
       "      <td>dairy eggs</td>\n",
       "    </tr>\n",
       "    <tr>\n",
       "      <th>16</th>\n",
       "      <td>17</td>\n",
       "      <td>household</td>\n",
       "    </tr>\n",
       "    <tr>\n",
       "      <th>17</th>\n",
       "      <td>18</td>\n",
       "      <td>babies</td>\n",
       "    </tr>\n",
       "    <tr>\n",
       "      <th>18</th>\n",
       "      <td>19</td>\n",
       "      <td>snacks</td>\n",
       "    </tr>\n",
       "    <tr>\n",
       "      <th>19</th>\n",
       "      <td>20</td>\n",
       "      <td>deli</td>\n",
       "    </tr>\n",
       "    <tr>\n",
       "      <th>20</th>\n",
       "      <td>21</td>\n",
       "      <td>missing</td>\n",
       "    </tr>\n",
       "  </tbody>\n",
       "</table>\n",
       "</div>"
      ],
      "text/plain": [
       "    Unnamed: 0       department\n",
       "0            1           frozen\n",
       "1            2            other\n",
       "2            3           bakery\n",
       "3            4          produce\n",
       "4            5          alcohol\n",
       "5            6    international\n",
       "6            7        beverages\n",
       "7            8             pets\n",
       "8            9  dry goods pasta\n",
       "9           10             bulk\n",
       "10          11    personal care\n",
       "11          12     meat seafood\n",
       "12          13           pantry\n",
       "13          14        breakfast\n",
       "14          15     canned goods\n",
       "15          16       dairy eggs\n",
       "16          17        household\n",
       "17          18           babies\n",
       "18          19           snacks\n",
       "19          20             deli\n",
       "20          21          missing"
      ]
     },
     "execution_count": 18,
     "metadata": {},
     "output_type": "execute_result"
    }
   ],
   "source": [
    "df_dept"
   ]
  },
  {
   "cell_type": "code",
   "execution_count": 19,
   "id": "55aabccc",
   "metadata": {},
   "outputs": [],
   "source": [
    "#Changing Unnamed: 0 to department_id to prepare for merging\n",
    "df_dept.rename(columns = {'Unnamed: 0' : 'department_id'}, inplace = True)"
   ]
  },
  {
   "cell_type": "code",
   "execution_count": 20,
   "id": "921d5ccb",
   "metadata": {},
   "outputs": [
    {
     "data": {
      "text/html": [
       "<div>\n",
       "<style scoped>\n",
       "    .dataframe tbody tr th:only-of-type {\n",
       "        vertical-align: middle;\n",
       "    }\n",
       "\n",
       "    .dataframe tbody tr th {\n",
       "        vertical-align: top;\n",
       "    }\n",
       "\n",
       "    .dataframe thead th {\n",
       "        text-align: right;\n",
       "    }\n",
       "</style>\n",
       "<table border=\"1\" class=\"dataframe\">\n",
       "  <thead>\n",
       "    <tr style=\"text-align: right;\">\n",
       "      <th></th>\n",
       "      <th>department_id</th>\n",
       "      <th>department</th>\n",
       "    </tr>\n",
       "  </thead>\n",
       "  <tbody>\n",
       "    <tr>\n",
       "      <th>0</th>\n",
       "      <td>1</td>\n",
       "      <td>frozen</td>\n",
       "    </tr>\n",
       "    <tr>\n",
       "      <th>1</th>\n",
       "      <td>2</td>\n",
       "      <td>other</td>\n",
       "    </tr>\n",
       "    <tr>\n",
       "      <th>2</th>\n",
       "      <td>3</td>\n",
       "      <td>bakery</td>\n",
       "    </tr>\n",
       "    <tr>\n",
       "      <th>3</th>\n",
       "      <td>4</td>\n",
       "      <td>produce</td>\n",
       "    </tr>\n",
       "    <tr>\n",
       "      <th>4</th>\n",
       "      <td>5</td>\n",
       "      <td>alcohol</td>\n",
       "    </tr>\n",
       "  </tbody>\n",
       "</table>\n",
       "</div>"
      ],
      "text/plain": [
       "   department_id department\n",
       "0              1     frozen\n",
       "1              2      other\n",
       "2              3     bakery\n",
       "3              4    produce\n",
       "4              5    alcohol"
      ]
     },
     "execution_count": 20,
     "metadata": {},
     "output_type": "execute_result"
    }
   ],
   "source": [
    "df_dept.head()"
   ]
  },
  {
   "cell_type": "code",
   "execution_count": 21,
   "id": "45ce95ac",
   "metadata": {},
   "outputs": [],
   "source": [
    "#Merging departments with instacart_merged\n",
    "instacart_merge = instacart_merged.merge(df_dept, on = 'department_id')"
   ]
  },
  {
   "cell_type": "code",
   "execution_count": 22,
   "id": "45a1660d",
   "metadata": {},
   "outputs": [
    {
     "data": {
      "text/html": [
       "<div>\n",
       "<style scoped>\n",
       "    .dataframe tbody tr th:only-of-type {\n",
       "        vertical-align: middle;\n",
       "    }\n",
       "\n",
       "    .dataframe tbody tr th {\n",
       "        vertical-align: top;\n",
       "    }\n",
       "\n",
       "    .dataframe thead th {\n",
       "        text-align: right;\n",
       "    }\n",
       "</style>\n",
       "<table border=\"1\" class=\"dataframe\">\n",
       "  <thead>\n",
       "    <tr style=\"text-align: right;\">\n",
       "      <th></th>\n",
       "      <th>order_id</th>\n",
       "      <th>user_id</th>\n",
       "      <th>eval_set</th>\n",
       "      <th>order_number</th>\n",
       "      <th>order_dow</th>\n",
       "      <th>order_hour_of_day</th>\n",
       "      <th>days_since_prior_order</th>\n",
       "      <th>product_id</th>\n",
       "      <th>add_to_cart_order</th>\n",
       "      <th>reordered</th>\n",
       "      <th>...</th>\n",
       "      <th>state</th>\n",
       "      <th>age</th>\n",
       "      <th>date_joined</th>\n",
       "      <th>num_of_dependants</th>\n",
       "      <th>marital_status</th>\n",
       "      <th>income</th>\n",
       "      <th>region</th>\n",
       "      <th>activity_flag</th>\n",
       "      <th>fam_profile</th>\n",
       "      <th>department</th>\n",
       "    </tr>\n",
       "  </thead>\n",
       "  <tbody>\n",
       "    <tr>\n",
       "      <th>0</th>\n",
       "      <td>2539329</td>\n",
       "      <td>1</td>\n",
       "      <td>prior</td>\n",
       "      <td>1</td>\n",
       "      <td>2</td>\n",
       "      <td>8</td>\n",
       "      <td>NaN</td>\n",
       "      <td>196</td>\n",
       "      <td>1</td>\n",
       "      <td>0</td>\n",
       "      <td>...</td>\n",
       "      <td>Alabama</td>\n",
       "      <td>31</td>\n",
       "      <td>2/17/2019</td>\n",
       "      <td>3</td>\n",
       "      <td>married</td>\n",
       "      <td>40423</td>\n",
       "      <td>South</td>\n",
       "      <td>normal activity</td>\n",
       "      <td>Married with children</td>\n",
       "      <td>beverages</td>\n",
       "    </tr>\n",
       "    <tr>\n",
       "      <th>1</th>\n",
       "      <td>2398795</td>\n",
       "      <td>1</td>\n",
       "      <td>prior</td>\n",
       "      <td>2</td>\n",
       "      <td>3</td>\n",
       "      <td>7</td>\n",
       "      <td>15.0</td>\n",
       "      <td>196</td>\n",
       "      <td>1</td>\n",
       "      <td>1</td>\n",
       "      <td>...</td>\n",
       "      <td>Alabama</td>\n",
       "      <td>31</td>\n",
       "      <td>2/17/2019</td>\n",
       "      <td>3</td>\n",
       "      <td>married</td>\n",
       "      <td>40423</td>\n",
       "      <td>South</td>\n",
       "      <td>normal activity</td>\n",
       "      <td>Married with children</td>\n",
       "      <td>beverages</td>\n",
       "    </tr>\n",
       "    <tr>\n",
       "      <th>2</th>\n",
       "      <td>473747</td>\n",
       "      <td>1</td>\n",
       "      <td>prior</td>\n",
       "      <td>3</td>\n",
       "      <td>3</td>\n",
       "      <td>12</td>\n",
       "      <td>21.0</td>\n",
       "      <td>196</td>\n",
       "      <td>1</td>\n",
       "      <td>1</td>\n",
       "      <td>...</td>\n",
       "      <td>Alabama</td>\n",
       "      <td>31</td>\n",
       "      <td>2/17/2019</td>\n",
       "      <td>3</td>\n",
       "      <td>married</td>\n",
       "      <td>40423</td>\n",
       "      <td>South</td>\n",
       "      <td>normal activity</td>\n",
       "      <td>Married with children</td>\n",
       "      <td>beverages</td>\n",
       "    </tr>\n",
       "    <tr>\n",
       "      <th>3</th>\n",
       "      <td>2254736</td>\n",
       "      <td>1</td>\n",
       "      <td>prior</td>\n",
       "      <td>4</td>\n",
       "      <td>4</td>\n",
       "      <td>7</td>\n",
       "      <td>29.0</td>\n",
       "      <td>196</td>\n",
       "      <td>1</td>\n",
       "      <td>1</td>\n",
       "      <td>...</td>\n",
       "      <td>Alabama</td>\n",
       "      <td>31</td>\n",
       "      <td>2/17/2019</td>\n",
       "      <td>3</td>\n",
       "      <td>married</td>\n",
       "      <td>40423</td>\n",
       "      <td>South</td>\n",
       "      <td>normal activity</td>\n",
       "      <td>Married with children</td>\n",
       "      <td>beverages</td>\n",
       "    </tr>\n",
       "    <tr>\n",
       "      <th>4</th>\n",
       "      <td>431534</td>\n",
       "      <td>1</td>\n",
       "      <td>prior</td>\n",
       "      <td>5</td>\n",
       "      <td>4</td>\n",
       "      <td>15</td>\n",
       "      <td>28.0</td>\n",
       "      <td>196</td>\n",
       "      <td>1</td>\n",
       "      <td>1</td>\n",
       "      <td>...</td>\n",
       "      <td>Alabama</td>\n",
       "      <td>31</td>\n",
       "      <td>2/17/2019</td>\n",
       "      <td>3</td>\n",
       "      <td>married</td>\n",
       "      <td>40423</td>\n",
       "      <td>South</td>\n",
       "      <td>normal activity</td>\n",
       "      <td>Married with children</td>\n",
       "      <td>beverages</td>\n",
       "    </tr>\n",
       "  </tbody>\n",
       "</table>\n",
       "<p>5 rows × 36 columns</p>\n",
       "</div>"
      ],
      "text/plain": [
       "   order_id  user_id eval_set  order_number  order_dow  order_hour_of_day  \\\n",
       "0   2539329        1    prior             1          2                  8   \n",
       "1   2398795        1    prior             2          3                  7   \n",
       "2    473747        1    prior             3          3                 12   \n",
       "3   2254736        1    prior             4          4                  7   \n",
       "4    431534        1    prior             5          4                 15   \n",
       "\n",
       "   days_since_prior_order  product_id  add_to_cart_order  reordered  ...  \\\n",
       "0                     NaN         196                  1          0  ...   \n",
       "1                    15.0         196                  1          1  ...   \n",
       "2                    21.0         196                  1          1  ...   \n",
       "3                    29.0         196                  1          1  ...   \n",
       "4                    28.0         196                  1          1  ...   \n",
       "\n",
       "     state  age  date_joined  num_of_dependants marital_status income region  \\\n",
       "0  Alabama   31    2/17/2019                  3        married  40423  South   \n",
       "1  Alabama   31    2/17/2019                  3        married  40423  South   \n",
       "2  Alabama   31    2/17/2019                  3        married  40423  South   \n",
       "3  Alabama   31    2/17/2019                  3        married  40423  South   \n",
       "4  Alabama   31    2/17/2019                  3        married  40423  South   \n",
       "\n",
       "     activity_flag            fam_profile  department  \n",
       "0  normal activity  Married with children   beverages  \n",
       "1  normal activity  Married with children   beverages  \n",
       "2  normal activity  Married with children   beverages  \n",
       "3  normal activity  Married with children   beverages  \n",
       "4  normal activity  Married with children   beverages  \n",
       "\n",
       "[5 rows x 36 columns]"
      ]
     },
     "execution_count": 22,
     "metadata": {},
     "output_type": "execute_result"
    }
   ],
   "source": [
    "#checking output of merge\n",
    "instacart_merge.head(5)"
   ]
  },
  {
   "cell_type": "code",
   "execution_count": 23,
   "id": "9fec83d4",
   "metadata": {},
   "outputs": [],
   "source": [
    "#Exporting instacart_merge\n",
    "instacart_merge.to_pickle(os.path.join(path, '02 Data', 'Prepared Data', 'orders_products_customer_merge_department.pkl' ))"
   ]
  },
  {
   "cell_type": "code",
   "execution_count": 24,
   "id": "6cccb98f",
   "metadata": {},
   "outputs": [
    {
     "data": {
      "text/plain": [
       "Index(['order_id', 'user_id', 'eval_set', 'order_number', 'order_dow',\n",
       "       'order_hour_of_day', 'days_since_prior_order', 'product_id',\n",
       "       'add_to_cart_order', 'reordered', 'product_name', 'aisle_id',\n",
       "       'department_id', 'prices', '_merge', 'price_range_loc', 'busiest_day',\n",
       "       'busiest_days', 'busiest_period_of_day', 'max_order', 'loyalty_flag',\n",
       "       'average_price', 'spending_flag', 'median_orders',\n",
       "       'order_frequency_flag', 'gender', 'state', 'age', 'date_joined',\n",
       "       'num_of_dependants', 'marital_status', 'income', 'region',\n",
       "       'activity_flag', 'fam_profile', 'department'],\n",
       "      dtype='object')"
      ]
     },
     "execution_count": 24,
     "metadata": {},
     "output_type": "execute_result"
    }
   ],
   "source": [
    "instacart_merge.columns"
   ]
  },
  {
   "cell_type": "markdown",
   "id": "72f480ea",
   "metadata": {},
   "source": [
    "## Creating income levels "
   ]
  },
  {
   "cell_type": "code",
   "execution_count": 25,
   "id": "014cf7b3",
   "metadata": {},
   "outputs": [
    {
     "data": {
      "text/plain": [
       "count    3.240486e+07\n",
       "mean     9.943773e+04\n",
       "std      4.305727e+04\n",
       "min      2.590300e+04\n",
       "25%      6.700400e+04\n",
       "50%      9.661800e+04\n",
       "75%      1.279120e+05\n",
       "max      5.939010e+05\n",
       "Name: income, dtype: float64"
      ]
     },
     "execution_count": 25,
     "metadata": {},
     "output_type": "execute_result"
    }
   ],
   "source": [
    "#checking income stats\n",
    "instacart_merge['income'].describe()"
   ]
  },
  {
   "cell_type": "markdown",
   "id": "f2a2ce25",
   "metadata": {},
   "source": [
    "__income level__\n",
    "\n",
    "_Lower Level: 25,000-67000_\n",
    "\n",
    "_Middle Level: 67,000-129,000_\n",
    "\n",
    "_Upper level: 129,000+_"
   ]
  },
  {
   "cell_type": "code",
   "execution_count": 26,
   "id": "44f6ce3c",
   "metadata": {},
   "outputs": [],
   "source": [
    "#creating flag for low level\n",
    "instacart_merge.loc[(instacart_merge['income'] >= 25000) & (instacart_merge['income'] <=67000), 'income_level'] = 'Low income'"
   ]
  },
  {
   "cell_type": "code",
   "execution_count": 27,
   "id": "359affb6",
   "metadata": {},
   "outputs": [],
   "source": [
    "#creating flag for middle level\n",
    "instacart_merge.loc[(instacart_merge['income'] >= 67001) & (instacart_merge['income'] <= 129000), 'income_level']= 'Middle income'"
   ]
  },
  {
   "cell_type": "code",
   "execution_count": 28,
   "id": "7eec9e3b",
   "metadata": {},
   "outputs": [],
   "source": [
    "#creating flag for upper level\n",
    "instacart_merge.loc[(instacart_merge['income'] >= 129001), 'income_level'] = 'High income'"
   ]
  },
  {
   "cell_type": "code",
   "execution_count": 29,
   "id": "f4df8f40",
   "metadata": {},
   "outputs": [
    {
     "data": {
      "text/plain": [
       "income_level\n",
       "Middle income    16400341\n",
       "Low income        8100799\n",
       "High income       7903719\n",
       "Name: count, dtype: int64"
      ]
     },
     "execution_count": 29,
     "metadata": {},
     "output_type": "execute_result"
    }
   ],
   "source": [
    "#checking output for 'income_level'\n",
    "instacart_merge['income_level'].value_counts(dropna = False)"
   ]
  },
  {
   "cell_type": "code",
   "execution_count": 30,
   "id": "dc33df37",
   "metadata": {},
   "outputs": [
    {
     "data": {
      "text/plain": [
       "Index(['order_id', 'user_id', 'eval_set', 'order_number', 'order_dow',\n",
       "       'order_hour_of_day', 'days_since_prior_order', 'product_id',\n",
       "       'add_to_cart_order', 'reordered', 'product_name', 'aisle_id',\n",
       "       'department_id', 'prices', '_merge', 'price_range_loc', 'busiest_day',\n",
       "       'busiest_days', 'busiest_period_of_day', 'max_order', 'loyalty_flag',\n",
       "       'average_price', 'spending_flag', 'median_orders',\n",
       "       'order_frequency_flag', 'gender', 'state', 'age', 'date_joined',\n",
       "       'num_of_dependants', 'marital_status', 'income', 'region',\n",
       "       'activity_flag', 'fam_profile', 'department', 'income_level'],\n",
       "      dtype='object')"
      ]
     },
     "execution_count": 30,
     "metadata": {},
     "output_type": "execute_result"
    }
   ],
   "source": [
    "instacart_merge.columns"
   ]
  },
  {
   "cell_type": "markdown",
   "id": "26428fe5",
   "metadata": {},
   "source": [
    "# Creating age group"
   ]
  },
  {
   "cell_type": "code",
   "execution_count": 31,
   "id": "e0e826fb",
   "metadata": {},
   "outputs": [
    {
     "data": {
      "text/plain": [
       "count    3.240486e+07\n",
       "mean     4.946527e+01\n",
       "std      1.848558e+01\n",
       "min      1.800000e+01\n",
       "25%      3.300000e+01\n",
       "50%      4.900000e+01\n",
       "75%      6.500000e+01\n",
       "max      8.100000e+01\n",
       "Name: age, dtype: float64"
      ]
     },
     "execution_count": 31,
     "metadata": {},
     "output_type": "execute_result"
    }
   ],
   "source": [
    "#checking stats for age\n",
    "instacart_merge['age'].describe()"
   ]
  },
  {
   "cell_type": "markdown",
   "id": "2745894d",
   "metadata": {},
   "source": [
    "__Age Groups__\n",
    "\n",
    "_Young adult: 18-33_\n",
    "\n",
    "_Adult: 34-49_\n",
    "\n",
    "_Older Adult: 50-64_\n",
    "\n",
    "_Senior: 65+_"
   ]
  },
  {
   "cell_type": "code",
   "execution_count": 32,
   "id": "dea0ccab",
   "metadata": {},
   "outputs": [],
   "source": [
    "#Creating age group flag for young adult\n",
    "instacart_merge.loc[(instacart_merge['age'] >= 18) & (instacart_merge['age'] <= 33), 'age_group'] = 'Young Adult (18-33)'"
   ]
  },
  {
   "cell_type": "code",
   "execution_count": 33,
   "id": "d9863167",
   "metadata": {},
   "outputs": [],
   "source": [
    "#Creating age group flag for Adult \n",
    "instacart_merge.loc[(instacart_merge['age'] >= 34) & (instacart_merge['age'] <= 49), 'age_group'] = 'Adult (34-49)'"
   ]
  },
  {
   "cell_type": "code",
   "execution_count": 34,
   "id": "216c6543",
   "metadata": {},
   "outputs": [],
   "source": [
    "#Creating age group flag for Older Adult\n",
    "instacart_merge.loc[(instacart_merge['age'] >= 50) & (instacart_merge['age'] <= 64), 'age_group'] = 'Older Adult (50-64)'"
   ]
  },
  {
   "cell_type": "code",
   "execution_count": 35,
   "id": "fc7d3879",
   "metadata": {},
   "outputs": [],
   "source": [
    "#Creating age group flag for Senior \n",
    "instacart_merge.loc[(instacart_merge['age'] >= 65), 'age_group'] = 'Senior (65+)'"
   ]
  },
  {
   "cell_type": "code",
   "execution_count": 36,
   "id": "e0a7992a",
   "metadata": {},
   "outputs": [
    {
     "data": {
      "text/plain": [
       "age_group\n",
       "Senior (65+)           8575084\n",
       "Adult (34-49)          8153117\n",
       "Young Adult (18-33)    8120312\n",
       "Older Adult (50-64)    7556346\n",
       "Name: count, dtype: int64"
      ]
     },
     "execution_count": 36,
     "metadata": {},
     "output_type": "execute_result"
    }
   ],
   "source": [
    "#Checking output for 'age_group'\n",
    "instacart_merge['age_group'].value_counts(dropna = False)"
   ]
  },
  {
   "cell_type": "markdown",
   "id": "75eb99cc",
   "metadata": {},
   "source": [
    "## Creating age_income crosstab"
   ]
  },
  {
   "cell_type": "code",
   "execution_count": 37,
   "id": "9f08f016",
   "metadata": {},
   "outputs": [],
   "source": [
    "#age_income crosstab\n",
    "income_age = pd.crosstab(instacart_merge['income_level'], instacart_merge['age_group'], dropna = False)"
   ]
  },
  {
   "cell_type": "code",
   "execution_count": 38,
   "id": "78e010cb",
   "metadata": {},
   "outputs": [
    {
     "data": {
      "text/html": [
       "<div>\n",
       "<style scoped>\n",
       "    .dataframe tbody tr th:only-of-type {\n",
       "        vertical-align: middle;\n",
       "    }\n",
       "\n",
       "    .dataframe tbody tr th {\n",
       "        vertical-align: top;\n",
       "    }\n",
       "\n",
       "    .dataframe thead th {\n",
       "        text-align: right;\n",
       "    }\n",
       "</style>\n",
       "<table border=\"1\" class=\"dataframe\">\n",
       "  <thead>\n",
       "    <tr style=\"text-align: right;\">\n",
       "      <th>age_group</th>\n",
       "      <th>Adult (34-49)</th>\n",
       "      <th>Older Adult (50-64)</th>\n",
       "      <th>Senior (65+)</th>\n",
       "      <th>Young Adult (18-33)</th>\n",
       "    </tr>\n",
       "    <tr>\n",
       "      <th>income_level</th>\n",
       "      <th></th>\n",
       "      <th></th>\n",
       "      <th></th>\n",
       "      <th></th>\n",
       "    </tr>\n",
       "  </thead>\n",
       "  <tbody>\n",
       "    <tr>\n",
       "      <th>High income</th>\n",
       "      <td>1776005</td>\n",
       "      <td>2835422</td>\n",
       "      <td>3204348</td>\n",
       "      <td>87944</td>\n",
       "    </tr>\n",
       "    <tr>\n",
       "      <th>Low income</th>\n",
       "      <td>2225525</td>\n",
       "      <td>1017912</td>\n",
       "      <td>1119276</td>\n",
       "      <td>3738086</td>\n",
       "    </tr>\n",
       "    <tr>\n",
       "      <th>Middle income</th>\n",
       "      <td>4151587</td>\n",
       "      <td>3703012</td>\n",
       "      <td>4251460</td>\n",
       "      <td>4294282</td>\n",
       "    </tr>\n",
       "  </tbody>\n",
       "</table>\n",
       "</div>"
      ],
      "text/plain": [
       "age_group      Adult (34-49)  Older Adult (50-64)  Senior (65+)  \\\n",
       "income_level                                                      \n",
       "High income          1776005              2835422       3204348   \n",
       "Low income           2225525              1017912       1119276   \n",
       "Middle income        4151587              3703012       4251460   \n",
       "\n",
       "age_group      Young Adult (18-33)  \n",
       "income_level                        \n",
       "High income                  87944  \n",
       "Low income                 3738086  \n",
       "Middle income              4294282  "
      ]
     },
     "execution_count": 38,
     "metadata": {},
     "output_type": "execute_result"
    }
   ],
   "source": [
    "income_age"
   ]
  },
  {
   "cell_type": "code",
   "execution_count": 39,
   "id": "a41ead5b",
   "metadata": {},
   "outputs": [
    {
     "data": {
      "image/png": "[encoded data removed]",
      "text/plain": [
       "<Figure size 640x480 with 1 Axes>"
      ]
     },
     "metadata": {},
     "output_type": "display_data"
    }
   ],
   "source": [
    "# Creating bar chart of income_age crosstab\n",
    "\n",
    "bar_income_age = income_age.plot.bar(stacked = False, rot = 0, color = ['mediumblue', 'teal', 'royalblue', 'yellowgreen'])\n",
    "plt.title(\"Customers by Income and Age Groups\", fontsize = 15)\n",
    "plt.xlabel(\"Income\", fontsize = 12)\n",
    "plt.ylabel(\"Frequency\", fontsize = 12)\n",
    "plt.legend(loc='center left', bbox_to_anchor=(1.0, 0.5))\n",
    "plt.tight_layout()"
   ]
  },
  {
   "cell_type": "code",
   "execution_count": 40,
   "id": "af1c0ac2",
   "metadata": {},
   "outputs": [],
   "source": [
    "# Exporting Customer by Income and Age group bar chart into visualizations folder\n",
    "bar_income_age.figure.savefig(os.path.join(path, '04 Analysis','Visualizations', 'bar_income_age.png'))"
   ]
  },
  {
   "cell_type": "markdown",
   "id": "390b987b",
   "metadata": {},
   "source": [
    "# Addtional Visulizations"
   ]
  },
  {
   "cell_type": "code",
   "execution_count": 41,
   "id": "352e32d3",
   "metadata": {},
   "outputs": [
    {
     "data": {
      "text/plain": [
       "Text(0, 0.5, 'Count')"
      ]
     },
     "execution_count": 41,
     "metadata": {},
     "output_type": "execute_result"
    },
    {
     "data": {
      "image/png": "[encoded data removed]",
      "text/plain": [
       "<Figure size 640x480 with 1 Axes>"
      ]
     },
     "metadata": {},
     "output_type": "display_data"
    }
   ],
   "source": [
    "#Creating a bar chart on the customers age groups\n",
    "bar_age_group = instacart_merge['age_group'].value_counts().plot.bar(color = ['teal', 'lightseagreen', 'mediumturquoise', 'paleturquoise'])\n",
    "plt.title(\"Distribution of Age Groups\", fontsize = 16)\n",
    "plt.xlabel(\"Age Groups\", fontsize = 12)\n",
    "plt.ylabel(\"Count\", fontsize = 12)"
   ]
  },
  {
   "cell_type": "code",
   "execution_count": 42,
   "id": "190ad140",
   "metadata": {},
   "outputs": [],
   "source": [
    "#Exporting Distributon of Age Groups Bar chart\n",
    "bar_age_group.figure.savefig(os.path.join(path, '04 Analysis','Visualizations', 'bar_age_groups.png'))"
   ]
  },
  {
   "cell_type": "code",
   "execution_count": 43,
   "id": "0a97f94c",
   "metadata": {},
   "outputs": [],
   "source": [
    "#Creating crosstab between age groups and spending flag\n",
    "age_spending = pd.crosstab(instacart_merge['age_group'], instacart_merge['spending_flag'], dropna = False)"
   ]
  },
  {
   "cell_type": "code",
   "execution_count": 44,
   "id": "789faffa",
   "metadata": {},
   "outputs": [
    {
     "data": {
      "text/html": [
       "<div>\n",
       "<style scoped>\n",
       "    .dataframe tbody tr th:only-of-type {\n",
       "        vertical-align: middle;\n",
       "    }\n",
       "\n",
       "    .dataframe tbody tr th {\n",
       "        vertical-align: top;\n",
       "    }\n",
       "\n",
       "    .dataframe thead th {\n",
       "        text-align: right;\n",
       "    }\n",
       "</style>\n",
       "<table border=\"1\" class=\"dataframe\">\n",
       "  <thead>\n",
       "    <tr style=\"text-align: right;\">\n",
       "      <th>spending_flag</th>\n",
       "      <th>High spender</th>\n",
       "      <th>Low spender</th>\n",
       "    </tr>\n",
       "    <tr>\n",
       "      <th>age_group</th>\n",
       "      <th></th>\n",
       "      <th></th>\n",
       "    </tr>\n",
       "  </thead>\n",
       "  <tbody>\n",
       "    <tr>\n",
       "      <th>Adult (34-49)</th>\n",
       "      <td>32133</td>\n",
       "      <td>8120984</td>\n",
       "    </tr>\n",
       "    <tr>\n",
       "      <th>Older Adult (50-64)</th>\n",
       "      <td>27713</td>\n",
       "      <td>7528633</td>\n",
       "    </tr>\n",
       "    <tr>\n",
       "      <th>Senior (65+)</th>\n",
       "      <td>32071</td>\n",
       "      <td>8543013</td>\n",
       "    </tr>\n",
       "    <tr>\n",
       "      <th>Young Adult (18-33)</th>\n",
       "      <td>27777</td>\n",
       "      <td>8092535</td>\n",
       "    </tr>\n",
       "  </tbody>\n",
       "</table>\n",
       "</div>"
      ],
      "text/plain": [
       "spending_flag        High spender  Low spender\n",
       "age_group                                     \n",
       "Adult (34-49)               32133      8120984\n",
       "Older Adult (50-64)         27713      7528633\n",
       "Senior (65+)                32071      8543013\n",
       "Young Adult (18-33)         27777      8092535"
      ]
     },
     "execution_count": 44,
     "metadata": {},
     "output_type": "execute_result"
    }
   ],
   "source": [
    "age_spending"
   ]
  },
  {
   "cell_type": "code",
   "execution_count": 45,
   "id": "1f68f7fa",
   "metadata": {},
   "outputs": [
    {
     "data": {
      "image/png": "[encoded data removed]",
      "text/plain": [
       "<Figure size 640x480 with 1 Axes>"
      ]
     },
     "metadata": {},
     "output_type": "display_data"
    }
   ],
   "source": [
    "#Creating bar chart of age_spending\n",
    "bar_age_spending  = age_spending.plot(kind = 'bar', stacked = False, rot = 50, color = ['cornflowerblue', 'purple'])\n",
    "plt.title(\"Customer Age vs. Spending\", fontsize = 16)\n",
    "plt.xlabel(\"Age Groups\", fontsize = 12)\n",
    "plt.ylabel(\"Spending Frequency\", fontsize = 12)\n",
    "plt.legend(loc='center left', bbox_to_anchor=(1.0, 0.5))\n",
    "plt.tight_layout()"
   ]
  },
  {
   "cell_type": "code",
   "execution_count": 46,
   "id": "a096eb28",
   "metadata": {},
   "outputs": [],
   "source": [
    "#creating a crosstab between age and family profile\n",
    "age_fam_profile = pd.crosstab(instacart_merge['age_group'], instacart_merge['fam_profile'], dropna = False)"
   ]
  },
  {
   "cell_type": "code",
   "execution_count": 47,
   "id": "1afa2069",
   "metadata": {},
   "outputs": [
    {
     "data": {
      "text/html": [
       "<div>\n",
       "<style scoped>\n",
       "    .dataframe tbody tr th:only-of-type {\n",
       "        vertical-align: middle;\n",
       "    }\n",
       "\n",
       "    .dataframe tbody tr th {\n",
       "        vertical-align: top;\n",
       "    }\n",
       "\n",
       "    .dataframe thead th {\n",
       "        text-align: right;\n",
       "    }\n",
       "</style>\n",
       "<table border=\"1\" class=\"dataframe\">\n",
       "  <thead>\n",
       "    <tr style=\"text-align: right;\">\n",
       "      <th>fam_profile</th>\n",
       "      <th>Married with children</th>\n",
       "      <th>Single Adult</th>\n",
       "      <th>Young Adult</th>\n",
       "    </tr>\n",
       "    <tr>\n",
       "      <th>age_group</th>\n",
       "      <th></th>\n",
       "      <th></th>\n",
       "      <th></th>\n",
       "    </tr>\n",
       "  </thead>\n",
       "  <tbody>\n",
       "    <tr>\n",
       "      <th>Adult (34-49)</th>\n",
       "      <td>6130902</td>\n",
       "      <td>2022215</td>\n",
       "      <td>0</td>\n",
       "    </tr>\n",
       "    <tr>\n",
       "      <th>Older Adult (50-64)</th>\n",
       "      <td>5628455</td>\n",
       "      <td>1927891</td>\n",
       "      <td>0</td>\n",
       "    </tr>\n",
       "    <tr>\n",
       "      <th>Senior (65+)</th>\n",
       "      <td>6455000</td>\n",
       "      <td>2120084</td>\n",
       "      <td>0</td>\n",
       "    </tr>\n",
       "    <tr>\n",
       "      <th>Young Adult (18-33)</th>\n",
       "      <td>4542396</td>\n",
       "      <td>2027313</td>\n",
       "      <td>1550603</td>\n",
       "    </tr>\n",
       "  </tbody>\n",
       "</table>\n",
       "</div>"
      ],
      "text/plain": [
       "fam_profile          Married with children  Single Adult  Young Adult\n",
       "age_group                                                            \n",
       "Adult (34-49)                      6130902       2022215            0\n",
       "Older Adult (50-64)                5628455       1927891            0\n",
       "Senior (65+)                       6455000       2120084            0\n",
       "Young Adult (18-33)                4542396       2027313      1550603"
      ]
     },
     "execution_count": 47,
     "metadata": {},
     "output_type": "execute_result"
    }
   ],
   "source": [
    "age_fam_profile"
   ]
  },
  {
   "cell_type": "code",
   "execution_count": 48,
   "id": "2a74bfa7",
   "metadata": {},
   "outputs": [
    {
     "data": {
      "text/plain": [
       "<matplotlib.legend.Legend at 0x18e52845e90>"
      ]
     },
     "execution_count": 48,
     "metadata": {},
     "output_type": "execute_result"
    },
    {
     "data": {
      "image/png": "[encoded data removed]",
      "text/plain": [
       "<Figure size 640x480 with 1 Axes>"
      ]
     },
     "metadata": {},
     "output_type": "display_data"
    }
   ],
   "source": [
    "bar_age_fam_profile = age_fam_profile.plot(kind = 'bar', rot = 0, stacked = False, color = ['teal', 'cadetblue', 'lightblue'])\n",
    "plt.title(\"Customer Family Profile and Age Group\")\n",
    "plt.legend(loc='center left', bbox_to_anchor=(1.0, 0.5))"
   ]
  },
  {
   "cell_type": "code",
   "execution_count": 49,
   "id": "185e12fb",
   "metadata": {},
   "outputs": [],
   "source": [
    "#exporting Customer Family Profile and Age Group\n",
    "bar_age_fam_profile.figure.savefig(os.path.join(path, '04 Analysis','Visualizations', 'bar_age_fam_profile.png'))"
   ]
  },
  {
   "cell_type": "code",
   "execution_count": 50,
   "id": "53e0fb65",
   "metadata": {},
   "outputs": [
    {
     "data": {
      "text/plain": [
       "Text(0, 0.5, 'Frequency')"
      ]
     },
     "execution_count": 50,
     "metadata": {},
     "output_type": "execute_result"
    },
    {
     "data": {
      "image/png": "[encoded data removed]",
      "text/plain": [
       "<Figure size 640x480 with 1 Axes>"
      ]
     },
     "metadata": {},
     "output_type": "display_data"
    }
   ],
   "source": [
    "#Creating Customer income groups bar chart\n",
    "bar_income_level = instacart_merge['income_level'].value_counts().plot.bar(rot = 0, color=['darkseagreen'])\n",
    "plt.title(\"Customer Income Groups\", fontsize = 16)\n",
    "plt.xlabel('Income Groups', fontsize = 12)\n",
    "plt.ylabel('Frequency', fontsize = 12)"
   ]
  },
  {
   "cell_type": "code",
   "execution_count": 51,
   "id": "7a68a9a7",
   "metadata": {},
   "outputs": [],
   "source": [
    "#exporting  bar chart to visualization\n",
    "bar_income_level.figure.savefig(os.path.join(path, '04 Analysis','Visualizations', 'bar_income_groups.png'))"
   ]
  },
  {
   "cell_type": "code",
   "execution_count": 52,
   "id": "5169f6af",
   "metadata": {},
   "outputs": [],
   "source": [
    "#Creating a crosstab between income level and family profile\n",
    "income_fam_profile = pd.crosstab(instacart_merge['income'], instacart_merge['fam_profile'], dropna = False)"
   ]
  },
  {
   "cell_type": "code",
   "execution_count": 53,
   "id": "b7dc7f75",
   "metadata": {},
   "outputs": [
    {
     "data": {
      "text/html": [
       "<div>\n",
       "<style scoped>\n",
       "    .dataframe tbody tr th:only-of-type {\n",
       "        vertical-align: middle;\n",
       "    }\n",
       "\n",
       "    .dataframe tbody tr th {\n",
       "        vertical-align: top;\n",
       "    }\n",
       "\n",
       "    .dataframe thead th {\n",
       "        text-align: right;\n",
       "    }\n",
       "</style>\n",
       "<table border=\"1\" class=\"dataframe\">\n",
       "  <thead>\n",
       "    <tr style=\"text-align: right;\">\n",
       "      <th>fam_profile</th>\n",
       "      <th>Married with children</th>\n",
       "      <th>Single Adult</th>\n",
       "      <th>Young Adult</th>\n",
       "    </tr>\n",
       "    <tr>\n",
       "      <th>income</th>\n",
       "      <th></th>\n",
       "      <th></th>\n",
       "      <th></th>\n",
       "    </tr>\n",
       "  </thead>\n",
       "  <tbody>\n",
       "    <tr>\n",
       "      <th>25903</th>\n",
       "      <td>0</td>\n",
       "      <td>20</td>\n",
       "      <td>0</td>\n",
       "    </tr>\n",
       "    <tr>\n",
       "      <th>25911</th>\n",
       "      <td>28</td>\n",
       "      <td>0</td>\n",
       "      <td>0</td>\n",
       "    </tr>\n",
       "    <tr>\n",
       "      <th>25937</th>\n",
       "      <td>0</td>\n",
       "      <td>0</td>\n",
       "      <td>39</td>\n",
       "    </tr>\n",
       "    <tr>\n",
       "      <th>25941</th>\n",
       "      <td>31</td>\n",
       "      <td>0</td>\n",
       "      <td>0</td>\n",
       "    </tr>\n",
       "    <tr>\n",
       "      <th>25955</th>\n",
       "      <td>392</td>\n",
       "      <td>0</td>\n",
       "      <td>0</td>\n",
       "    </tr>\n",
       "    <tr>\n",
       "      <th>...</th>\n",
       "      <td>...</td>\n",
       "      <td>...</td>\n",
       "      <td>...</td>\n",
       "    </tr>\n",
       "    <tr>\n",
       "      <th>584097</th>\n",
       "      <td>0</td>\n",
       "      <td>826</td>\n",
       "      <td>0</td>\n",
       "    </tr>\n",
       "    <tr>\n",
       "      <th>590790</th>\n",
       "      <td>54</td>\n",
       "      <td>0</td>\n",
       "      <td>0</td>\n",
       "    </tr>\n",
       "    <tr>\n",
       "      <th>591089</th>\n",
       "      <td>176</td>\n",
       "      <td>0</td>\n",
       "      <td>0</td>\n",
       "    </tr>\n",
       "    <tr>\n",
       "      <th>592409</th>\n",
       "      <td>318</td>\n",
       "      <td>0</td>\n",
       "      <td>0</td>\n",
       "    </tr>\n",
       "    <tr>\n",
       "      <th>593901</th>\n",
       "      <td>640</td>\n",
       "      <td>0</td>\n",
       "      <td>0</td>\n",
       "    </tr>\n",
       "  </tbody>\n",
       "</table>\n",
       "<p>108012 rows × 3 columns</p>\n",
       "</div>"
      ],
      "text/plain": [
       "fam_profile  Married with children  Single Adult  Young Adult\n",
       "income                                                       \n",
       "25903                            0            20            0\n",
       "25911                           28             0            0\n",
       "25937                            0             0           39\n",
       "25941                           31             0            0\n",
       "25955                          392             0            0\n",
       "...                            ...           ...          ...\n",
       "584097                           0           826            0\n",
       "590790                          54             0            0\n",
       "591089                         176             0            0\n",
       "592409                         318             0            0\n",
       "593901                         640             0            0\n",
       "\n",
       "[108012 rows x 3 columns]"
      ]
     },
     "execution_count": 53,
     "metadata": {},
     "output_type": "execute_result"
    }
   ],
   "source": [
    "income_fam_profile"
   ]
  },
  {
   "cell_type": "code",
   "execution_count": 54,
   "id": "6a9df50d",
   "metadata": {},
   "outputs": [
    {
     "data": {
      "text/plain": [
       "<matplotlib.legend.Legend at 0x18e85a98bd0>"
      ]
     },
     "execution_count": 54,
     "metadata": {},
     "output_type": "execute_result"
    },
    {
     "data": {
      "image/png": "[encoded data removed]",
      "text/plain": [
       "<Figure size 640x480 with 1 Axes>"
      ]
     },
     "metadata": {},
     "output_type": "display_data"
    }
   ],
   "source": [
    "#Creating bar of income vs family profile\n",
    "bar_income_fam_profile = income_fam_profile.plot(kind = 'bar', rot = 0, stacked = True)\n",
    "plt.legend(loc='center left', bbox_to_anchor=(1.0, 0.5))"
   ]
  },
  {
   "cell_type": "code",
   "execution_count": 55,
   "id": "61ae86db",
   "metadata": {},
   "outputs": [
    {
     "data": {
      "text/plain": [
       "<Axes: xlabel='income'>"
      ]
     },
     "execution_count": 55,
     "metadata": {},
     "output_type": "execute_result"
    }
   ],
   "source": [
    "bar_income_fam_profile"
   ]
  },
  {
   "cell_type": "code",
   "execution_count": 56,
   "id": "aa0f8a2d",
   "metadata": {},
   "outputs": [],
   "source": [
    "#Exporting instacart_merge\n",
    "instacart_merge.to_pickle(os.path.join(path, '02 Data', 'Prepared Data', 'orders_products_customer_merge_department.pkl' ))"
   ]
  },
  {
   "cell_type": "code",
   "execution_count": 57,
   "id": "e4d3188a",
   "metadata": {},
   "outputs": [
    {
     "data": {
      "text/plain": [
       "(32404859, 38)"
      ]
     },
     "execution_count": 57,
     "metadata": {},
     "output_type": "execute_result"
    }
   ],
   "source": [
    "instacart_merge.shape"
   ]
  },
  {
   "cell_type": "code",
   "execution_count": 58,
   "id": "3f40a4de",
   "metadata": {},
   "outputs": [
    {
     "data": {
      "text/html": [
       "<div>\n",
       "<style scoped>\n",
       "    .dataframe tbody tr th:only-of-type {\n",
       "        vertical-align: middle;\n",
       "    }\n",
       "\n",
       "    .dataframe tbody tr th {\n",
       "        vertical-align: top;\n",
       "    }\n",
       "\n",
       "    .dataframe thead th {\n",
       "        text-align: right;\n",
       "    }\n",
       "</style>\n",
       "<table border=\"1\" class=\"dataframe\">\n",
       "  <thead>\n",
       "    <tr style=\"text-align: right;\">\n",
       "      <th></th>\n",
       "      <th>order_id</th>\n",
       "      <th>user_id</th>\n",
       "      <th>eval_set</th>\n",
       "      <th>order_number</th>\n",
       "      <th>order_dow</th>\n",
       "      <th>order_hour_of_day</th>\n",
       "      <th>days_since_prior_order</th>\n",
       "      <th>product_id</th>\n",
       "      <th>add_to_cart_order</th>\n",
       "      <th>reordered</th>\n",
       "      <th>...</th>\n",
       "      <th>date_joined</th>\n",
       "      <th>num_of_dependants</th>\n",
       "      <th>marital_status</th>\n",
       "      <th>income</th>\n",
       "      <th>region</th>\n",
       "      <th>activity_flag</th>\n",
       "      <th>fam_profile</th>\n",
       "      <th>department</th>\n",
       "      <th>income_level</th>\n",
       "      <th>age_group</th>\n",
       "    </tr>\n",
       "  </thead>\n",
       "  <tbody>\n",
       "    <tr>\n",
       "      <th>0</th>\n",
       "      <td>2539329</td>\n",
       "      <td>1</td>\n",
       "      <td>prior</td>\n",
       "      <td>1</td>\n",
       "      <td>2</td>\n",
       "      <td>8</td>\n",
       "      <td>NaN</td>\n",
       "      <td>196</td>\n",
       "      <td>1</td>\n",
       "      <td>0</td>\n",
       "      <td>...</td>\n",
       "      <td>2/17/2019</td>\n",
       "      <td>3</td>\n",
       "      <td>married</td>\n",
       "      <td>40423</td>\n",
       "      <td>South</td>\n",
       "      <td>normal activity</td>\n",
       "      <td>Married with children</td>\n",
       "      <td>beverages</td>\n",
       "      <td>Low income</td>\n",
       "      <td>Young Adult (18-33)</td>\n",
       "    </tr>\n",
       "    <tr>\n",
       "      <th>1</th>\n",
       "      <td>2398795</td>\n",
       "      <td>1</td>\n",
       "      <td>prior</td>\n",
       "      <td>2</td>\n",
       "      <td>3</td>\n",
       "      <td>7</td>\n",
       "      <td>15.0</td>\n",
       "      <td>196</td>\n",
       "      <td>1</td>\n",
       "      <td>1</td>\n",
       "      <td>...</td>\n",
       "      <td>2/17/2019</td>\n",
       "      <td>3</td>\n",
       "      <td>married</td>\n",
       "      <td>40423</td>\n",
       "      <td>South</td>\n",
       "      <td>normal activity</td>\n",
       "      <td>Married with children</td>\n",
       "      <td>beverages</td>\n",
       "      <td>Low income</td>\n",
       "      <td>Young Adult (18-33)</td>\n",
       "    </tr>\n",
       "    <tr>\n",
       "      <th>2</th>\n",
       "      <td>473747</td>\n",
       "      <td>1</td>\n",
       "      <td>prior</td>\n",
       "      <td>3</td>\n",
       "      <td>3</td>\n",
       "      <td>12</td>\n",
       "      <td>21.0</td>\n",
       "      <td>196</td>\n",
       "      <td>1</td>\n",
       "      <td>1</td>\n",
       "      <td>...</td>\n",
       "      <td>2/17/2019</td>\n",
       "      <td>3</td>\n",
       "      <td>married</td>\n",
       "      <td>40423</td>\n",
       "      <td>South</td>\n",
       "      <td>normal activity</td>\n",
       "      <td>Married with children</td>\n",
       "      <td>beverages</td>\n",
       "      <td>Low income</td>\n",
       "      <td>Young Adult (18-33)</td>\n",
       "    </tr>\n",
       "    <tr>\n",
       "      <th>3</th>\n",
       "      <td>2254736</td>\n",
       "      <td>1</td>\n",
       "      <td>prior</td>\n",
       "      <td>4</td>\n",
       "      <td>4</td>\n",
       "      <td>7</td>\n",
       "      <td>29.0</td>\n",
       "      <td>196</td>\n",
       "      <td>1</td>\n",
       "      <td>1</td>\n",
       "      <td>...</td>\n",
       "      <td>2/17/2019</td>\n",
       "      <td>3</td>\n",
       "      <td>married</td>\n",
       "      <td>40423</td>\n",
       "      <td>South</td>\n",
       "      <td>normal activity</td>\n",
       "      <td>Married with children</td>\n",
       "      <td>beverages</td>\n",
       "      <td>Low income</td>\n",
       "      <td>Young Adult (18-33)</td>\n",
       "    </tr>\n",
       "    <tr>\n",
       "      <th>4</th>\n",
       "      <td>431534</td>\n",
       "      <td>1</td>\n",
       "      <td>prior</td>\n",
       "      <td>5</td>\n",
       "      <td>4</td>\n",
       "      <td>15</td>\n",
       "      <td>28.0</td>\n",
       "      <td>196</td>\n",
       "      <td>1</td>\n",
       "      <td>1</td>\n",
       "      <td>...</td>\n",
       "      <td>2/17/2019</td>\n",
       "      <td>3</td>\n",
       "      <td>married</td>\n",
       "      <td>40423</td>\n",
       "      <td>South</td>\n",
       "      <td>normal activity</td>\n",
       "      <td>Married with children</td>\n",
       "      <td>beverages</td>\n",
       "      <td>Low income</td>\n",
       "      <td>Young Adult (18-33)</td>\n",
       "    </tr>\n",
       "  </tbody>\n",
       "</table>\n",
       "<p>5 rows × 38 columns</p>\n",
       "</div>"
      ],
      "text/plain": [
       "   order_id  user_id eval_set  order_number  order_dow  order_hour_of_day  \\\n",
       "0   2539329        1    prior             1          2                  8   \n",
       "1   2398795        1    prior             2          3                  7   \n",
       "2    473747        1    prior             3          3                 12   \n",
       "3   2254736        1    prior             4          4                  7   \n",
       "4    431534        1    prior             5          4                 15   \n",
       "\n",
       "   days_since_prior_order  product_id  add_to_cart_order  reordered  ...  \\\n",
       "0                     NaN         196                  1          0  ...   \n",
       "1                    15.0         196                  1          1  ...   \n",
       "2                    21.0         196                  1          1  ...   \n",
       "3                    29.0         196                  1          1  ...   \n",
       "4                    28.0         196                  1          1  ...   \n",
       "\n",
       "  date_joined  num_of_dependants  marital_status  income region  \\\n",
       "0   2/17/2019                  3         married   40423  South   \n",
       "1   2/17/2019                  3         married   40423  South   \n",
       "2   2/17/2019                  3         married   40423  South   \n",
       "3   2/17/2019                  3         married   40423  South   \n",
       "4   2/17/2019                  3         married   40423  South   \n",
       "\n",
       "     activity_flag            fam_profile department income_level  \\\n",
       "0  normal activity  Married with children  beverages   Low income   \n",
       "1  normal activity  Married with children  beverages   Low income   \n",
       "2  normal activity  Married with children  beverages   Low income   \n",
       "3  normal activity  Married with children  beverages   Low income   \n",
       "4  normal activity  Married with children  beverages   Low income   \n",
       "\n",
       "             age_group  \n",
       "0  Young Adult (18-33)  \n",
       "1  Young Adult (18-33)  \n",
       "2  Young Adult (18-33)  \n",
       "3  Young Adult (18-33)  \n",
       "4  Young Adult (18-33)  \n",
       "\n",
       "[5 rows x 38 columns]"
      ]
     },
     "execution_count": 58,
     "metadata": {},
     "output_type": "execute_result"
    }
   ],
   "source": [
    "instacart_merge.head(5)"
   ]
  },
  {
   "cell_type": "code",
   "execution_count": null,
   "id": "5e59229d",
   "metadata": {},
   "outputs": [],
   "source": []
  }
 ],
 "metadata": {
  "kernelspec": {
   "display_name": "Python 3 (ipykernel)",
   "language": "python",
   "name": "python3"
  },
  "language_info": {
   "codemirror_mode": {
    "name": "ipython",
    "version": 3
   },
   "file_extension": ".py",
   "mimetype": "text/x-python",
   "name": "python",
   "nbconvert_exporter": "python",
   "pygments_lexer": "ipython3",
   "version": "3.11.4"
  }
 },
 "nbformat": 4,
 "nbformat_minor": 5
}
