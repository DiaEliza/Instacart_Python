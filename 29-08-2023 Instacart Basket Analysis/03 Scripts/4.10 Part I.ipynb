{
 "cells": [
  {
   "cell_type": "markdown",
   "id": "aa175021",
   "metadata": {},
   "source": [
    "## Importing Libraries"
   ]
  },
  {
   "cell_type": "code",
   "execution_count": 2,
   "id": "73046c3e",
   "metadata": {},
   "outputs": [],
   "source": [
    "# importing libraries\n",
    "\n",
    "import pandas as pd\n",
    "import numpy as np\n",
    "import os\n",
    "import matplotlib.pyplot as plt\n",
    "import seaborn as sns\n",
    "import scipy"
   ]
  },
  {
   "cell_type": "code",
   "execution_count": 3,
   "id": "f6640817",
   "metadata": {},
   "outputs": [],
   "source": [
    "# Creating path for df\n",
    "path = r\"C:\\Users\\Artemis07\\Downloads\\29-08-2023 Instacart Basket Analysis\""
   ]
  },
  {
   "cell_type": "code",
   "execution_count": 4,
   "id": "39e2592d",
   "metadata": {},
   "outputs": [],
   "source": [
    "#importing df\n",
    "instacart_merged = pd.read_pickle(os.path.join(path, '02 Data', 'Prepared Data', 'orders_products_customer_merge.pkl'))"
   ]
  },
  {
   "cell_type": "code",
   "execution_count": 5,
   "id": "f0ba3508",
   "metadata": {},
   "outputs": [
    {
     "data": {
      "text/html": [
       "<div>\n",
       "<style scoped>\n",
       "    .dataframe tbody tr th:only-of-type {\n",
       "        vertical-align: middle;\n",
       "    }\n",
       "\n",
       "    .dataframe tbody tr th {\n",
       "        vertical-align: top;\n",
       "    }\n",
       "\n",
       "    .dataframe thead th {\n",
       "        text-align: right;\n",
       "    }\n",
       "</style>\n",
       "<table border=\"1\" class=\"dataframe\">\n",
       "  <thead>\n",
       "    <tr style=\"text-align: right;\">\n",
       "      <th></th>\n",
       "      <th>order_id</th>\n",
       "      <th>user_id</th>\n",
       "      <th>eval_set</th>\n",
       "      <th>order_number</th>\n",
       "      <th>order_dow</th>\n",
       "      <th>order_hour_of_day</th>\n",
       "      <th>days_since_prior_order</th>\n",
       "      <th>product_id</th>\n",
       "      <th>add_to_cart_order</th>\n",
       "      <th>reordered</th>\n",
       "      <th>...</th>\n",
       "      <th>surname</th>\n",
       "      <th>gender</th>\n",
       "      <th>state</th>\n",
       "      <th>age</th>\n",
       "      <th>date_joined</th>\n",
       "      <th>num_of_dependants</th>\n",
       "      <th>marital_status</th>\n",
       "      <th>income</th>\n",
       "      <th>region</th>\n",
       "      <th>activity_flag</th>\n",
       "    </tr>\n",
       "  </thead>\n",
       "  <tbody>\n",
       "    <tr>\n",
       "      <th>0</th>\n",
       "      <td>2539329</td>\n",
       "      <td>1</td>\n",
       "      <td>prior</td>\n",
       "      <td>1</td>\n",
       "      <td>2</td>\n",
       "      <td>8</td>\n",
       "      <td>NaN</td>\n",
       "      <td>196</td>\n",
       "      <td>1</td>\n",
       "      <td>0</td>\n",
       "      <td>...</td>\n",
       "      <td>Nguyen</td>\n",
       "      <td>Female</td>\n",
       "      <td>Alabama</td>\n",
       "      <td>31</td>\n",
       "      <td>2/17/2019</td>\n",
       "      <td>3</td>\n",
       "      <td>married</td>\n",
       "      <td>40423</td>\n",
       "      <td>South</td>\n",
       "      <td>normal activity</td>\n",
       "    </tr>\n",
       "    <tr>\n",
       "      <th>1</th>\n",
       "      <td>2398795</td>\n",
       "      <td>1</td>\n",
       "      <td>prior</td>\n",
       "      <td>2</td>\n",
       "      <td>3</td>\n",
       "      <td>7</td>\n",
       "      <td>15.0</td>\n",
       "      <td>196</td>\n",
       "      <td>1</td>\n",
       "      <td>1</td>\n",
       "      <td>...</td>\n",
       "      <td>Nguyen</td>\n",
       "      <td>Female</td>\n",
       "      <td>Alabama</td>\n",
       "      <td>31</td>\n",
       "      <td>2/17/2019</td>\n",
       "      <td>3</td>\n",
       "      <td>married</td>\n",
       "      <td>40423</td>\n",
       "      <td>South</td>\n",
       "      <td>normal activity</td>\n",
       "    </tr>\n",
       "    <tr>\n",
       "      <th>2</th>\n",
       "      <td>473747</td>\n",
       "      <td>1</td>\n",
       "      <td>prior</td>\n",
       "      <td>3</td>\n",
       "      <td>3</td>\n",
       "      <td>12</td>\n",
       "      <td>21.0</td>\n",
       "      <td>196</td>\n",
       "      <td>1</td>\n",
       "      <td>1</td>\n",
       "      <td>...</td>\n",
       "      <td>Nguyen</td>\n",
       "      <td>Female</td>\n",
       "      <td>Alabama</td>\n",
       "      <td>31</td>\n",
       "      <td>2/17/2019</td>\n",
       "      <td>3</td>\n",
       "      <td>married</td>\n",
       "      <td>40423</td>\n",
       "      <td>South</td>\n",
       "      <td>normal activity</td>\n",
       "    </tr>\n",
       "    <tr>\n",
       "      <th>3</th>\n",
       "      <td>2254736</td>\n",
       "      <td>1</td>\n",
       "      <td>prior</td>\n",
       "      <td>4</td>\n",
       "      <td>4</td>\n",
       "      <td>7</td>\n",
       "      <td>29.0</td>\n",
       "      <td>196</td>\n",
       "      <td>1</td>\n",
       "      <td>1</td>\n",
       "      <td>...</td>\n",
       "      <td>Nguyen</td>\n",
       "      <td>Female</td>\n",
       "      <td>Alabama</td>\n",
       "      <td>31</td>\n",
       "      <td>2/17/2019</td>\n",
       "      <td>3</td>\n",
       "      <td>married</td>\n",
       "      <td>40423</td>\n",
       "      <td>South</td>\n",
       "      <td>normal activity</td>\n",
       "    </tr>\n",
       "    <tr>\n",
       "      <th>4</th>\n",
       "      <td>431534</td>\n",
       "      <td>1</td>\n",
       "      <td>prior</td>\n",
       "      <td>5</td>\n",
       "      <td>4</td>\n",
       "      <td>15</td>\n",
       "      <td>28.0</td>\n",
       "      <td>196</td>\n",
       "      <td>1</td>\n",
       "      <td>1</td>\n",
       "      <td>...</td>\n",
       "      <td>Nguyen</td>\n",
       "      <td>Female</td>\n",
       "      <td>Alabama</td>\n",
       "      <td>31</td>\n",
       "      <td>2/17/2019</td>\n",
       "      <td>3</td>\n",
       "      <td>married</td>\n",
       "      <td>40423</td>\n",
       "      <td>South</td>\n",
       "      <td>normal activity</td>\n",
       "    </tr>\n",
       "  </tbody>\n",
       "</table>\n",
       "<p>5 rows × 36 columns</p>\n",
       "</div>"
      ],
      "text/plain": [
       "   order_id  user_id eval_set  order_number  order_dow  order_hour_of_day  \\\n",
       "0   2539329        1    prior             1          2                  8   \n",
       "1   2398795        1    prior             2          3                  7   \n",
       "2    473747        1    prior             3          3                 12   \n",
       "3   2254736        1    prior             4          4                  7   \n",
       "4    431534        1    prior             5          4                 15   \n",
       "\n",
       "   days_since_prior_order  product_id  add_to_cart_order  reordered  ...  \\\n",
       "0                     NaN         196                  1          0  ...   \n",
       "1                    15.0         196                  1          1  ...   \n",
       "2                    21.0         196                  1          1  ...   \n",
       "3                    29.0         196                  1          1  ...   \n",
       "4                    28.0         196                  1          1  ...   \n",
       "\n",
       "  surname  gender    state  age date_joined num_of_dependants marital_status  \\\n",
       "0  Nguyen  Female  Alabama   31   2/17/2019                 3        married   \n",
       "1  Nguyen  Female  Alabama   31   2/17/2019                 3        married   \n",
       "2  Nguyen  Female  Alabama   31   2/17/2019                 3        married   \n",
       "3  Nguyen  Female  Alabama   31   2/17/2019                 3        married   \n",
       "4  Nguyen  Female  Alabama   31   2/17/2019                 3        married   \n",
       "\n",
       "  income region    activity_flag  \n",
       "0  40423  South  normal activity  \n",
       "1  40423  South  normal activity  \n",
       "2  40423  South  normal activity  \n",
       "3  40423  South  normal activity  \n",
       "4  40423  South  normal activity  \n",
       "\n",
       "[5 rows x 36 columns]"
      ]
     },
     "execution_count": 5,
     "metadata": {},
     "output_type": "execute_result"
    }
   ],
   "source": [
    "instacart_merged.head(5)"
   ]
  },
  {
   "cell_type": "code",
   "execution_count": 6,
   "id": "056bb240",
   "metadata": {},
   "outputs": [
    {
     "data": {
      "text/plain": [
       "Index(['order_id', 'user_id', 'eval_set', 'order_number', 'order_dow',\n",
       "       'order_hour_of_day', 'days_since_prior_order', 'product_id',\n",
       "       'add_to_cart_order', 'reordered', 'product_name', 'aisle_id',\n",
       "       'department_id', 'prices', '_merge', 'price_range_loc', 'busiest_day',\n",
       "       'busiest_days', 'busiest_period_of_day', 'max_order', 'loyalty_flag',\n",
       "       'average_price', 'spending_flag', 'median_orders',\n",
       "       'order_frequency_flag', 'first_name', 'surname', 'gender', 'state',\n",
       "       'age', 'date_joined', 'num_of_dependants', 'marital_status', 'income',\n",
       "       'region', 'activity_flag'],\n",
       "      dtype='object')"
      ]
     },
     "execution_count": 6,
     "metadata": {},
     "output_type": "execute_result"
    }
   ],
   "source": [
    "#Checking columns for PII Data\n",
    "instacart_merged.columns"
   ]
  },
  {
   "cell_type": "markdown",
   "id": "bb565695",
   "metadata": {},
   "source": [
    "_# PII: data contains first name, last name, gender, what state they are in, their marital status, income, and number of dependents. Allof these items are could potentially be used trace a particular person._"
   ]
  },
  {
   "cell_type": "code",
   "execution_count": 7,
   "id": "ec8b1dea",
   "metadata": {},
   "outputs": [],
   "source": [
    "#dropping column 'first_names\\' and 'surname' from dataset due to security \n",
    "instacart_merged = instacart_merged.drop(['first_name', 'surname'], axis = 1)"
   ]
  },
  {
   "cell_type": "code",
   "execution_count": 8,
   "id": "dd09b3f3",
   "metadata": {},
   "outputs": [
    {
     "data": {
      "text/html": [
       "<div>\n",
       "<style scoped>\n",
       "    .dataframe tbody tr th:only-of-type {\n",
       "        vertical-align: middle;\n",
       "    }\n",
       "\n",
       "    .dataframe tbody tr th {\n",
       "        vertical-align: top;\n",
       "    }\n",
       "\n",
       "    .dataframe thead th {\n",
       "        text-align: right;\n",
       "    }\n",
       "</style>\n",
       "<table border=\"1\" class=\"dataframe\">\n",
       "  <thead>\n",
       "    <tr style=\"text-align: right;\">\n",
       "      <th></th>\n",
       "      <th>order_id</th>\n",
       "      <th>user_id</th>\n",
       "      <th>eval_set</th>\n",
       "      <th>order_number</th>\n",
       "      <th>order_dow</th>\n",
       "      <th>order_hour_of_day</th>\n",
       "      <th>days_since_prior_order</th>\n",
       "      <th>product_id</th>\n",
       "      <th>add_to_cart_order</th>\n",
       "      <th>reordered</th>\n",
       "      <th>...</th>\n",
       "      <th>order_frequency_flag</th>\n",
       "      <th>gender</th>\n",
       "      <th>state</th>\n",
       "      <th>age</th>\n",
       "      <th>date_joined</th>\n",
       "      <th>num_of_dependants</th>\n",
       "      <th>marital_status</th>\n",
       "      <th>income</th>\n",
       "      <th>region</th>\n",
       "      <th>activity_flag</th>\n",
       "    </tr>\n",
       "  </thead>\n",
       "  <tbody>\n",
       "    <tr>\n",
       "      <th>0</th>\n",
       "      <td>2539329</td>\n",
       "      <td>1</td>\n",
       "      <td>prior</td>\n",
       "      <td>1</td>\n",
       "      <td>2</td>\n",
       "      <td>8</td>\n",
       "      <td>NaN</td>\n",
       "      <td>196</td>\n",
       "      <td>1</td>\n",
       "      <td>0</td>\n",
       "      <td>...</td>\n",
       "      <td>Non-frequent customer</td>\n",
       "      <td>Female</td>\n",
       "      <td>Alabama</td>\n",
       "      <td>31</td>\n",
       "      <td>2/17/2019</td>\n",
       "      <td>3</td>\n",
       "      <td>married</td>\n",
       "      <td>40423</td>\n",
       "      <td>South</td>\n",
       "      <td>normal activity</td>\n",
       "    </tr>\n",
       "    <tr>\n",
       "      <th>1</th>\n",
       "      <td>2398795</td>\n",
       "      <td>1</td>\n",
       "      <td>prior</td>\n",
       "      <td>2</td>\n",
       "      <td>3</td>\n",
       "      <td>7</td>\n",
       "      <td>15.0</td>\n",
       "      <td>196</td>\n",
       "      <td>1</td>\n",
       "      <td>1</td>\n",
       "      <td>...</td>\n",
       "      <td>Non-frequent customer</td>\n",
       "      <td>Female</td>\n",
       "      <td>Alabama</td>\n",
       "      <td>31</td>\n",
       "      <td>2/17/2019</td>\n",
       "      <td>3</td>\n",
       "      <td>married</td>\n",
       "      <td>40423</td>\n",
       "      <td>South</td>\n",
       "      <td>normal activity</td>\n",
       "    </tr>\n",
       "    <tr>\n",
       "      <th>2</th>\n",
       "      <td>473747</td>\n",
       "      <td>1</td>\n",
       "      <td>prior</td>\n",
       "      <td>3</td>\n",
       "      <td>3</td>\n",
       "      <td>12</td>\n",
       "      <td>21.0</td>\n",
       "      <td>196</td>\n",
       "      <td>1</td>\n",
       "      <td>1</td>\n",
       "      <td>...</td>\n",
       "      <td>Non-frequent customer</td>\n",
       "      <td>Female</td>\n",
       "      <td>Alabama</td>\n",
       "      <td>31</td>\n",
       "      <td>2/17/2019</td>\n",
       "      <td>3</td>\n",
       "      <td>married</td>\n",
       "      <td>40423</td>\n",
       "      <td>South</td>\n",
       "      <td>normal activity</td>\n",
       "    </tr>\n",
       "    <tr>\n",
       "      <th>3</th>\n",
       "      <td>2254736</td>\n",
       "      <td>1</td>\n",
       "      <td>prior</td>\n",
       "      <td>4</td>\n",
       "      <td>4</td>\n",
       "      <td>7</td>\n",
       "      <td>29.0</td>\n",
       "      <td>196</td>\n",
       "      <td>1</td>\n",
       "      <td>1</td>\n",
       "      <td>...</td>\n",
       "      <td>Non-frequent customer</td>\n",
       "      <td>Female</td>\n",
       "      <td>Alabama</td>\n",
       "      <td>31</td>\n",
       "      <td>2/17/2019</td>\n",
       "      <td>3</td>\n",
       "      <td>married</td>\n",
       "      <td>40423</td>\n",
       "      <td>South</td>\n",
       "      <td>normal activity</td>\n",
       "    </tr>\n",
       "    <tr>\n",
       "      <th>4</th>\n",
       "      <td>431534</td>\n",
       "      <td>1</td>\n",
       "      <td>prior</td>\n",
       "      <td>5</td>\n",
       "      <td>4</td>\n",
       "      <td>15</td>\n",
       "      <td>28.0</td>\n",
       "      <td>196</td>\n",
       "      <td>1</td>\n",
       "      <td>1</td>\n",
       "      <td>...</td>\n",
       "      <td>Non-frequent customer</td>\n",
       "      <td>Female</td>\n",
       "      <td>Alabama</td>\n",
       "      <td>31</td>\n",
       "      <td>2/17/2019</td>\n",
       "      <td>3</td>\n",
       "      <td>married</td>\n",
       "      <td>40423</td>\n",
       "      <td>South</td>\n",
       "      <td>normal activity</td>\n",
       "    </tr>\n",
       "  </tbody>\n",
       "</table>\n",
       "<p>5 rows × 34 columns</p>\n",
       "</div>"
      ],
      "text/plain": [
       "   order_id  user_id eval_set  order_number  order_dow  order_hour_of_day  \\\n",
       "0   2539329        1    prior             1          2                  8   \n",
       "1   2398795        1    prior             2          3                  7   \n",
       "2    473747        1    prior             3          3                 12   \n",
       "3   2254736        1    prior             4          4                  7   \n",
       "4    431534        1    prior             5          4                 15   \n",
       "\n",
       "   days_since_prior_order  product_id  add_to_cart_order  reordered  ...  \\\n",
       "0                     NaN         196                  1          0  ...   \n",
       "1                    15.0         196                  1          1  ...   \n",
       "2                    21.0         196                  1          1  ...   \n",
       "3                    29.0         196                  1          1  ...   \n",
       "4                    28.0         196                  1          1  ...   \n",
       "\n",
       "    order_frequency_flag  gender    state  age date_joined num_of_dependants  \\\n",
       "0  Non-frequent customer  Female  Alabama   31   2/17/2019                 3   \n",
       "1  Non-frequent customer  Female  Alabama   31   2/17/2019                 3   \n",
       "2  Non-frequent customer  Female  Alabama   31   2/17/2019                 3   \n",
       "3  Non-frequent customer  Female  Alabama   31   2/17/2019                 3   \n",
       "4  Non-frequent customer  Female  Alabama   31   2/17/2019                 3   \n",
       "\n",
       "  marital_status income region    activity_flag  \n",
       "0        married  40423  South  normal activity  \n",
       "1        married  40423  South  normal activity  \n",
       "2        married  40423  South  normal activity  \n",
       "3        married  40423  South  normal activity  \n",
       "4        married  40423  South  normal activity  \n",
       "\n",
       "[5 rows x 34 columns]"
      ]
     },
     "execution_count": 8,
     "metadata": {},
     "output_type": "execute_result"
    }
   ],
   "source": [
    "instacart_merged.head(5)"
   ]
  },
  {
   "cell_type": "code",
   "execution_count": 9,
   "id": "002d30f9",
   "metadata": {},
   "outputs": [
    {
     "data": {
      "text/plain": [
       "Index(['order_id', 'user_id', 'eval_set', 'order_number', 'order_dow',\n",
       "       'order_hour_of_day', 'days_since_prior_order', 'product_id',\n",
       "       'add_to_cart_order', 'reordered', 'product_name', 'aisle_id',\n",
       "       'department_id', 'prices', '_merge', 'price_range_loc', 'busiest_day',\n",
       "       'busiest_days', 'busiest_period_of_day', 'max_order', 'loyalty_flag',\n",
       "       'average_price', 'spending_flag', 'median_orders',\n",
       "       'order_frequency_flag', 'gender', 'state', 'age', 'date_joined',\n",
       "       'num_of_dependants', 'marital_status', 'income', 'region',\n",
       "       'activity_flag'],\n",
       "      dtype='object')"
      ]
     },
     "execution_count": 9,
     "metadata": {},
     "output_type": "execute_result"
    }
   ],
   "source": [
    "instacart_merged.columns"
   ]
  },
  {
   "cell_type": "markdown",
   "id": "8029671a",
   "metadata": {},
   "source": [
    "# Regional Analysis"
   ]
  },
  {
   "cell_type": "markdown",
   "id": "1e77338e",
   "metadata": {},
   "source": [
    "__Northeast:__ Maine, New Hampshire, Vermont, Massachusetts, Rhode Island, Connecticut, New York, Pennsylvania, New Jersey\n",
    "\n",
    "__Midwest:__ Wisconsin, Michigan, Illinois, Indiana, Ohio, North Dakota, South Dakota, Nebraska, Kansas, Minnesota, Iowa, Missouri\n",
    "\n",
    "__South:__ Delaware, Maryland, District of Columbia, Virginia, West Virginia, North Carolina, South Carolina, Georgia, Florida, Kentucky, Mississippi, Alabama, Oklahoma, Texas, Arkansas, Louisiana\n",
    "\n",
    "__West:__ Idaho, Montana, Wyoming, Nevada, Utah, Colorado, Arizona, New Mexico, Alaska, Washington, Oregon, California, Hawaii"
   ]
  },
  {
   "cell_type": "markdown",
   "id": "f8e8ecf9",
   "metadata": {},
   "source": [
    "### Create region column"
   ]
  },
  {
   "cell_type": "code",
   "execution_count": 10,
   "id": "4d9f9cec",
   "metadata": {},
   "outputs": [],
   "source": [
    "# Creating a Region column based on state column \n",
    "\n",
    "results_region = []\n",
    "\n",
    "for value in instacart_merged[\"state\"]: \n",
    "    if value == 'Maine' or value == 'New Hampshire' or value == 'Vermont' or value == 'Massachusetts' or value == 'Rhode Island' or value == 'Connecticut' or value == 'New York' or value == 'Pennsylvania' or value == 'New Jersey':\n",
    "        results_region.append(\"Northeast\")\n",
    "    elif value == 'Wisconsin' or value == 'Michigan' or value == 'Illinois' or value == 'Indiana' or value == 'Ohio' or value == 'North Dakota' or value == 'South Dakota' or value == 'Nebraska' or value == 'Kansas' or value == 'Minnesota' or value == 'Iowa' or value == 'Missouri':\n",
    "        results_region.append(\"Midwest\") \n",
    "    elif value == 'Delaware' or value == 'Maryland' or value == 'District of Columbia' or value == 'Virginia' or value == 'West Virginia' or value == 'North Carolina' or value == 'South Carolina' or value == 'Georgia' or value == 'Florida' or value == 'Kentucky' or value == 'Mississippi' or value == 'Alabama' or value == 'Oklahoma' or value == 'Texas' or value == 'Arkansas' or value == 'Louisiana':\n",
    "        results_region.append(\"South\")\n",
    "    else: \n",
    "        results_region.append(\"West\")\n"
   ]
  },
  {
   "cell_type": "code",
   "execution_count": 11,
   "id": "efb6d1de",
   "metadata": {},
   "outputs": [],
   "source": [
    "# adding results_region as column \n",
    "instacart_merged['region'] = results_region"
   ]
  },
  {
   "cell_type": "code",
   "execution_count": 12,
   "id": "76b6c0cd",
   "metadata": {},
   "outputs": [
    {
     "data": {
      "text/html": [
       "<div>\n",
       "<style scoped>\n",
       "    .dataframe tbody tr th:only-of-type {\n",
       "        vertical-align: middle;\n",
       "    }\n",
       "\n",
       "    .dataframe tbody tr th {\n",
       "        vertical-align: top;\n",
       "    }\n",
       "\n",
       "    .dataframe thead th {\n",
       "        text-align: right;\n",
       "    }\n",
       "</style>\n",
       "<table border=\"1\" class=\"dataframe\">\n",
       "  <thead>\n",
       "    <tr style=\"text-align: right;\">\n",
       "      <th></th>\n",
       "      <th>order_id</th>\n",
       "      <th>user_id</th>\n",
       "      <th>eval_set</th>\n",
       "      <th>order_number</th>\n",
       "      <th>order_dow</th>\n",
       "      <th>order_hour_of_day</th>\n",
       "      <th>days_since_prior_order</th>\n",
       "      <th>product_id</th>\n",
       "      <th>add_to_cart_order</th>\n",
       "      <th>reordered</th>\n",
       "      <th>...</th>\n",
       "      <th>order_frequency_flag</th>\n",
       "      <th>gender</th>\n",
       "      <th>state</th>\n",
       "      <th>age</th>\n",
       "      <th>date_joined</th>\n",
       "      <th>num_of_dependants</th>\n",
       "      <th>marital_status</th>\n",
       "      <th>income</th>\n",
       "      <th>region</th>\n",
       "      <th>activity_flag</th>\n",
       "    </tr>\n",
       "  </thead>\n",
       "  <tbody>\n",
       "    <tr>\n",
       "      <th>0</th>\n",
       "      <td>2539329</td>\n",
       "      <td>1</td>\n",
       "      <td>prior</td>\n",
       "      <td>1</td>\n",
       "      <td>2</td>\n",
       "      <td>8</td>\n",
       "      <td>NaN</td>\n",
       "      <td>196</td>\n",
       "      <td>1</td>\n",
       "      <td>0</td>\n",
       "      <td>...</td>\n",
       "      <td>Non-frequent customer</td>\n",
       "      <td>Female</td>\n",
       "      <td>Alabama</td>\n",
       "      <td>31</td>\n",
       "      <td>2/17/2019</td>\n",
       "      <td>3</td>\n",
       "      <td>married</td>\n",
       "      <td>40423</td>\n",
       "      <td>South</td>\n",
       "      <td>normal activity</td>\n",
       "    </tr>\n",
       "    <tr>\n",
       "      <th>1</th>\n",
       "      <td>2398795</td>\n",
       "      <td>1</td>\n",
       "      <td>prior</td>\n",
       "      <td>2</td>\n",
       "      <td>3</td>\n",
       "      <td>7</td>\n",
       "      <td>15.0</td>\n",
       "      <td>196</td>\n",
       "      <td>1</td>\n",
       "      <td>1</td>\n",
       "      <td>...</td>\n",
       "      <td>Non-frequent customer</td>\n",
       "      <td>Female</td>\n",
       "      <td>Alabama</td>\n",
       "      <td>31</td>\n",
       "      <td>2/17/2019</td>\n",
       "      <td>3</td>\n",
       "      <td>married</td>\n",
       "      <td>40423</td>\n",
       "      <td>South</td>\n",
       "      <td>normal activity</td>\n",
       "    </tr>\n",
       "    <tr>\n",
       "      <th>2</th>\n",
       "      <td>473747</td>\n",
       "      <td>1</td>\n",
       "      <td>prior</td>\n",
       "      <td>3</td>\n",
       "      <td>3</td>\n",
       "      <td>12</td>\n",
       "      <td>21.0</td>\n",
       "      <td>196</td>\n",
       "      <td>1</td>\n",
       "      <td>1</td>\n",
       "      <td>...</td>\n",
       "      <td>Non-frequent customer</td>\n",
       "      <td>Female</td>\n",
       "      <td>Alabama</td>\n",
       "      <td>31</td>\n",
       "      <td>2/17/2019</td>\n",
       "      <td>3</td>\n",
       "      <td>married</td>\n",
       "      <td>40423</td>\n",
       "      <td>South</td>\n",
       "      <td>normal activity</td>\n",
       "    </tr>\n",
       "    <tr>\n",
       "      <th>3</th>\n",
       "      <td>2254736</td>\n",
       "      <td>1</td>\n",
       "      <td>prior</td>\n",
       "      <td>4</td>\n",
       "      <td>4</td>\n",
       "      <td>7</td>\n",
       "      <td>29.0</td>\n",
       "      <td>196</td>\n",
       "      <td>1</td>\n",
       "      <td>1</td>\n",
       "      <td>...</td>\n",
       "      <td>Non-frequent customer</td>\n",
       "      <td>Female</td>\n",
       "      <td>Alabama</td>\n",
       "      <td>31</td>\n",
       "      <td>2/17/2019</td>\n",
       "      <td>3</td>\n",
       "      <td>married</td>\n",
       "      <td>40423</td>\n",
       "      <td>South</td>\n",
       "      <td>normal activity</td>\n",
       "    </tr>\n",
       "    <tr>\n",
       "      <th>4</th>\n",
       "      <td>431534</td>\n",
       "      <td>1</td>\n",
       "      <td>prior</td>\n",
       "      <td>5</td>\n",
       "      <td>4</td>\n",
       "      <td>15</td>\n",
       "      <td>28.0</td>\n",
       "      <td>196</td>\n",
       "      <td>1</td>\n",
       "      <td>1</td>\n",
       "      <td>...</td>\n",
       "      <td>Non-frequent customer</td>\n",
       "      <td>Female</td>\n",
       "      <td>Alabama</td>\n",
       "      <td>31</td>\n",
       "      <td>2/17/2019</td>\n",
       "      <td>3</td>\n",
       "      <td>married</td>\n",
       "      <td>40423</td>\n",
       "      <td>South</td>\n",
       "      <td>normal activity</td>\n",
       "    </tr>\n",
       "  </tbody>\n",
       "</table>\n",
       "<p>5 rows × 34 columns</p>\n",
       "</div>"
      ],
      "text/plain": [
       "   order_id  user_id eval_set  order_number  order_dow  order_hour_of_day  \\\n",
       "0   2539329        1    prior             1          2                  8   \n",
       "1   2398795        1    prior             2          3                  7   \n",
       "2    473747        1    prior             3          3                 12   \n",
       "3   2254736        1    prior             4          4                  7   \n",
       "4    431534        1    prior             5          4                 15   \n",
       "\n",
       "   days_since_prior_order  product_id  add_to_cart_order  reordered  ...  \\\n",
       "0                     NaN         196                  1          0  ...   \n",
       "1                    15.0         196                  1          1  ...   \n",
       "2                    21.0         196                  1          1  ...   \n",
       "3                    29.0         196                  1          1  ...   \n",
       "4                    28.0         196                  1          1  ...   \n",
       "\n",
       "    order_frequency_flag  gender    state  age date_joined num_of_dependants  \\\n",
       "0  Non-frequent customer  Female  Alabama   31   2/17/2019                 3   \n",
       "1  Non-frequent customer  Female  Alabama   31   2/17/2019                 3   \n",
       "2  Non-frequent customer  Female  Alabama   31   2/17/2019                 3   \n",
       "3  Non-frequent customer  Female  Alabama   31   2/17/2019                 3   \n",
       "4  Non-frequent customer  Female  Alabama   31   2/17/2019                 3   \n",
       "\n",
       "  marital_status income region    activity_flag  \n",
       "0        married  40423  South  normal activity  \n",
       "1        married  40423  South  normal activity  \n",
       "2        married  40423  South  normal activity  \n",
       "3        married  40423  South  normal activity  \n",
       "4        married  40423  South  normal activity  \n",
       "\n",
       "[5 rows x 34 columns]"
      ]
     },
     "execution_count": 12,
     "metadata": {},
     "output_type": "execute_result"
    }
   ],
   "source": [
    "# Checking new region column for confirmation\n",
    "instacart_merged.head(5)"
   ]
  },
  {
   "cell_type": "markdown",
   "id": "223d4169",
   "metadata": {},
   "source": [
    "### Create a crosstab between region and spending flag"
   ]
  },
  {
   "cell_type": "code",
   "execution_count": 13,
   "id": "a410c596",
   "metadata": {},
   "outputs": [
    {
     "data": {
      "text/plain": [
       "region\n",
       "South        10174012\n",
       "West          8910786\n",
       "Midwest       7597325\n",
       "Northeast     5722736\n",
       "Name: count, dtype: int64"
      ]
     },
     "execution_count": 13,
     "metadata": {},
     "output_type": "execute_result"
    }
   ],
   "source": [
    "# Checking frequency of region\n",
    "instacart_merged['region'].value_counts(dropna = False)"
   ]
  },
  {
   "cell_type": "code",
   "execution_count": 14,
   "id": "a1e0d9e6",
   "metadata": {},
   "outputs": [
    {
     "data": {
      "text/plain": [
       "spending_flag\n",
       "Low spender     32285165\n",
       "High spender      119694\n",
       "Name: count, dtype: int64"
      ]
     },
     "execution_count": 14,
     "metadata": {},
     "output_type": "execute_result"
    }
   ],
   "source": [
    "# Checking frequency of spending flag\n",
    "instacart_merged['spending_flag'].value_counts(dropna= False)"
   ]
  },
  {
   "cell_type": "code",
   "execution_count": 15,
   "id": "7d8fa8b1",
   "metadata": {},
   "outputs": [],
   "source": [
    "# Creating regional_spending to determine if there is a differenct between spending habits between U.S. regions\n",
    "regional_spending = pd.crosstab(instacart_merged['region'], instacart_merged['spending_flag'], dropna = False)"
   ]
  },
  {
   "cell_type": "code",
   "execution_count": 16,
   "id": "bdc2b34f",
   "metadata": {},
   "outputs": [
    {
     "data": {
      "text/html": [
       "<div>\n",
       "<style scoped>\n",
       "    .dataframe tbody tr th:only-of-type {\n",
       "        vertical-align: middle;\n",
       "    }\n",
       "\n",
       "    .dataframe tbody tr th {\n",
       "        vertical-align: top;\n",
       "    }\n",
       "\n",
       "    .dataframe thead th {\n",
       "        text-align: right;\n",
       "    }\n",
       "</style>\n",
       "<table border=\"1\" class=\"dataframe\">\n",
       "  <thead>\n",
       "    <tr style=\"text-align: right;\">\n",
       "      <th>spending_flag</th>\n",
       "      <th>High spender</th>\n",
       "      <th>Low spender</th>\n",
       "    </tr>\n",
       "    <tr>\n",
       "      <th>region</th>\n",
       "      <th></th>\n",
       "      <th></th>\n",
       "    </tr>\n",
       "  </thead>\n",
       "  <tbody>\n",
       "    <tr>\n",
       "      <th>Midwest</th>\n",
       "      <td>29265</td>\n",
       "      <td>7568060</td>\n",
       "    </tr>\n",
       "    <tr>\n",
       "      <th>Northeast</th>\n",
       "      <td>18642</td>\n",
       "      <td>5704094</td>\n",
       "    </tr>\n",
       "    <tr>\n",
       "      <th>South</th>\n",
       "      <td>37492</td>\n",
       "      <td>10136520</td>\n",
       "    </tr>\n",
       "    <tr>\n",
       "      <th>West</th>\n",
       "      <td>34295</td>\n",
       "      <td>8876491</td>\n",
       "    </tr>\n",
       "  </tbody>\n",
       "</table>\n",
       "</div>"
      ],
      "text/plain": [
       "spending_flag  High spender  Low spender\n",
       "region                                  \n",
       "Midwest               29265      7568060\n",
       "Northeast             18642      5704094\n",
       "South                 37492     10136520\n",
       "West                  34295      8876491"
      ]
     },
     "execution_count": 16,
     "metadata": {},
     "output_type": "execute_result"
    }
   ],
   "source": [
    "# Checking regional_spending\n",
    "regional_spending"
   ]
  },
  {
   "cell_type": "code",
   "execution_count": 17,
   "id": "47a85fcb",
   "metadata": {},
   "outputs": [
    {
     "data": {
      "text/plain": [
       "Text(0, 0.5, 'Spending Frequency')"
      ]
     },
     "execution_count": 17,
     "metadata": {},
     "output_type": "execute_result"
    },
    {
     "data": {
      "image/png": "[encoded data removed]",
      "text/plain": [
       "<Figure size 640x480 with 1 Axes>"
      ]
     },
     "metadata": {},
     "output_type": "display_data"
    }
   ],
   "source": [
    "# Creating bar chart of regional_spending \n",
    "\n",
    "bar_regional_spending = regional_spending.plot(kind = 'bar', stacked = False, rot = 0, color = ['maroon', 'lightblue' ])\n",
    "plt.title(\"Regional Spending\", fontsize = 15)\n",
    "plt.xlabel(\"Region\", fontsize = 12)\n",
    "plt.ylabel(\"Spending Frequency\", fontsize = 12)\n"
   ]
  },
  {
   "cell_type": "code",
   "execution_count": 18,
   "id": "1b78eeac",
   "metadata": {},
   "outputs": [],
   "source": [
    "# Exporting Regional Spending bar chart into visualizations folder\n",
    "bar_regional_spending.figure.savefig(os.path.join(path, '04 Analysis','Visualizations', 'bar_regional_spending.png'))"
   ]
  },
  {
   "cell_type": "markdown",
   "id": "6c07b39a",
   "metadata": {},
   "source": [
    "# Exclusion for low-activity customers"
   ]
  },
  {
   "cell_type": "markdown",
   "id": "fdcd8c07",
   "metadata": {},
   "source": [
    "__Creating an exclusion flag for low activity customers (customers with less than 5 orders)__"
   ]
  },
  {
   "cell_type": "code",
   "execution_count": 19,
   "id": "3312dada",
   "metadata": {},
   "outputs": [],
   "source": [
    "#Creating low_activity flag\n",
    "instacart_merged.loc[instacart_merged['max_order'] < 5, 'activity_flag'] = 'low activity'"
   ]
  },
  {
   "cell_type": "code",
   "execution_count": 20,
   "id": "82170c7d",
   "metadata": {},
   "outputs": [],
   "source": [
    "#Creating normal_activity flag\n",
    "instacart_merged.loc[instacart_merged['max_order'] >= 5, 'activity_flag'] = 'normal activity'"
   ]
  },
  {
   "cell_type": "code",
   "execution_count": 21,
   "id": "4f1904e3",
   "metadata": {},
   "outputs": [
    {
     "data": {
      "text/plain": [
       "activity_flag\n",
       "normal activity    30964564\n",
       "low activity        1440295\n",
       "Name: count, dtype: int64"
      ]
     },
     "execution_count": 21,
     "metadata": {},
     "output_type": "execute_result"
    }
   ],
   "source": [
    "#Checking frequency of new activity_flag\n",
    "instacart_merged['activity_flag'].value_counts(dropna = False)"
   ]
  },
  {
   "cell_type": "code",
   "execution_count": 22,
   "id": "7827f34d",
   "metadata": {},
   "outputs": [],
   "source": [
    "#Exporting instacart_merged with new activity_flag column \n",
    "instacart_merged.to_pickle(os.path.join(path, '02 Data', 'Prepared Data', 'orders_products_customer_merge.pkl'))"
   ]
  },
  {
   "cell_type": "code",
   "execution_count": 23,
   "id": "7939d0e6",
   "metadata": {},
   "outputs": [],
   "source": [
    "#Creating a new sample with only normal activity \n",
    "instacart_merged_2 = instacart_merged[instacart_merged['activity_flag']=='normal activity']\n"
   ]
  },
  {
   "cell_type": "code",
   "execution_count": 24,
   "id": "b4e27bd2",
   "metadata": {},
   "outputs": [
    {
     "data": {
      "text/plain": [
       "(32404859, 34)"
      ]
     },
     "execution_count": 24,
     "metadata": {},
     "output_type": "execute_result"
    }
   ],
   "source": [
    "instacart_merged.shape"
   ]
  },
  {
   "cell_type": "code",
   "execution_count": 25,
   "id": "16da8740",
   "metadata": {},
   "outputs": [
    {
     "data": {
      "text/plain": [
       "(30964564, 34)"
      ]
     },
     "execution_count": 25,
     "metadata": {},
     "output_type": "execute_result"
    }
   ],
   "source": [
    "instacart_merged_2.shape"
   ]
  },
  {
   "cell_type": "code",
   "execution_count": 26,
   "id": "a3507245",
   "metadata": {},
   "outputs": [],
   "source": [
    "#exporting instacart_merged_2 \n",
    "instacart_merged_2.to_pickle(os.path.join(path, '02 Data', 'Prepared Data', 'ords_prods_cust_noact_merge.pkl'))"
   ]
  },
  {
   "cell_type": "markdown",
   "id": "546b8712",
   "metadata": {},
   "source": [
    "# Create a profiling variables"
   ]
  },
  {
   "cell_type": "markdown",
   "id": "0ff889bf",
   "metadata": {},
   "source": [
    "__Creating a profiling variable based on age, income, certain goods in the \"department_id\" column, and number of dependents. You can alse use the \"orders_day_of_the_week\" and \"order_hour_of_day\" columns__"
   ]
  },
  {
   "cell_type": "code",
   "execution_count": 27,
   "id": "bfa630b4",
   "metadata": {},
   "outputs": [
    {
     "data": {
      "text/plain": [
       "count    3.240486e+07\n",
       "mean     4.946527e+01\n",
       "std      1.848558e+01\n",
       "min      1.800000e+01\n",
       "25%      3.300000e+01\n",
       "50%      4.900000e+01\n",
       "75%      6.500000e+01\n",
       "max      8.100000e+01\n",
       "Name: age, dtype: float64"
      ]
     },
     "execution_count": 27,
     "metadata": {},
     "output_type": "execute_result"
    }
   ],
   "source": [
    "#Checking stats for age\n",
    "instacart_merged['age'].describe()\n",
    "                 "
   ]
  },
  {
   "cell_type": "markdown",
   "id": "5dcbb199",
   "metadata": {},
   "source": [
    "__Creating age groups:__\n",
    "\n",
    "_Young Adult: 18-32_\n",
    "\n",
    "_Adult: 33-48_\n",
    "\n",
    "_Older Adult: 49-64_\n",
    "\n",
    "_Seniors: 65+_"
   ]
  },
  {
   "cell_type": "code",
   "execution_count": 28,
   "id": "9174fab5",
   "metadata": {},
   "outputs": [],
   "source": [
    "#Creating age_group flag for Young Adult\n",
    "instacart_merged.loc[(instacart_merged['age'] >= 18) & (instacart_merged['age'] <= 32), 'age_group'] = 'Young Adult: 18-32'"
   ]
  },
  {
   "cell_type": "code",
   "execution_count": 29,
   "id": "dc591f96",
   "metadata": {},
   "outputs": [],
   "source": [
    "#Creating age_group flag for Adult\n",
    "instacart_merged.loc[(instacart_merged['age'] >= 33) & (instacart_merged['age'] <= 48), 'age_group'] = 'Adult: 33-48'"
   ]
  },
  {
   "cell_type": "code",
   "execution_count": 30,
   "id": "21b69adf",
   "metadata": {},
   "outputs": [],
   "source": [
    "#Creating age_group flage for Older Adult\n",
    "#Creating age_group flag for Adult\n",
    "instacart_merged.loc[(instacart_merged['age'] >= 49) & (instacart_merged['age'] <= 64), 'age_group'] = 'Older Adult: 49-64'"
   ]
  },
  {
   "cell_type": "code",
   "execution_count": 31,
   "id": "fd9bd765",
   "metadata": {},
   "outputs": [],
   "source": [
    "#Creating age_group flag for Senior\n",
    "instacart_merged.loc[(instacart_merged['age'] >= 65), 'age_group'] = 'Senior: 65+'"
   ]
  },
  {
   "cell_type": "code",
   "execution_count": 32,
   "id": "dc66ba26",
   "metadata": {},
   "outputs": [
    {
     "data": {
      "text/plain": [
       "age_group\n",
       "Senior: 65+           8575084\n",
       "Adult: 33-48          8116256\n",
       "Older Adult: 49-64    8087706\n",
       "Young Adult: 18-32    7625813\n",
       "Name: count, dtype: int64"
      ]
     },
     "execution_count": 32,
     "metadata": {},
     "output_type": "execute_result"
    }
   ],
   "source": [
    "#Checking frequency of age_group flag\n",
    "instacart_merged['age_group'].value_counts(dropna = False)"
   ]
  },
  {
   "cell_type": "code",
   "execution_count": 33,
   "id": "1d2bac9c",
   "metadata": {},
   "outputs": [
    {
     "data": {
      "text/plain": [
       "count    3.240486e+07\n",
       "mean     9.943773e+04\n",
       "std      4.305727e+04\n",
       "min      2.590300e+04\n",
       "25%      6.700400e+04\n",
       "50%      9.661800e+04\n",
       "75%      1.279120e+05\n",
       "max      5.939010e+05\n",
       "Name: income, dtype: float64"
      ]
     },
     "execution_count": 33,
     "metadata": {},
     "output_type": "execute_result"
    }
   ],
   "source": [
    "#Checking stats for income\n",
    "instacart_merged['income'].describe()"
   ]
  },
  {
   "cell_type": "markdown",
   "id": "cba08e9b",
   "metadata": {},
   "source": [
    "__Creating income levels__\n",
    "\n",
    "_Lower level: 25,000 to 66,000_\n",
    "\n",
    "_Moderate level: 67,000 to 96,000_\n",
    "\n",
    "_Middle level: 97,000 to 126,000_\n",
    "\n",
    "_Upper level: 127,000+_"
   ]
  },
  {
   "cell_type": "code",
   "execution_count": 34,
   "id": "292bb0e3",
   "metadata": {},
   "outputs": [],
   "source": [
    "#Creating income_level flag for Lower level\n",
    "instacart_merged.loc[(instacart_merged['income'] >= 25000) & (instacart_merged['income'] <= 67000), 'income_level'] = 'Lower Level'"
   ]
  },
  {
   "cell_type": "code",
   "execution_count": 35,
   "id": "16aeb678",
   "metadata": {},
   "outputs": [],
   "source": [
    "#Creating income_level flag for Middle Level\n",
    "instacart_merged.loc[(instacart_merged['income'] >= 67001) & (instacart_merged['income'] < 127000), 'income_level'] = 'Middle Level'"
   ]
  },
  {
   "cell_type": "code",
   "execution_count": 36,
   "id": "8bc6ebf4",
   "metadata": {},
   "outputs": [],
   "source": [
    "#Creating income_level flag for Upper Level\n",
    "instacart_merged.loc[instacart_merged['income'] > 127001, 'income_level'] = 'Upper Level'"
   ]
  },
  {
   "cell_type": "code",
   "execution_count": 37,
   "id": "9f847ae3",
   "metadata": {},
   "outputs": [
    {
     "data": {
      "text/plain": [
       "income_level\n",
       "Middle Level    16035018\n",
       "Upper Level      8268878\n",
       "Lower Level      8100799\n",
       "NaN                  164\n",
       "Name: count, dtype: int64"
      ]
     },
     "execution_count": 37,
     "metadata": {},
     "output_type": "execute_result"
    }
   ],
   "source": [
    "#Checking frequency of income level flag\n",
    "instacart_merged['income_level'].value_counts(dropna = False)"
   ]
  },
  {
   "cell_type": "code",
   "execution_count": 38,
   "id": "c9b737af",
   "metadata": {},
   "outputs": [],
   "source": [
    "#Creating an age and income crosstab\n",
    "age_income = pd.crosstab(instacart_merged['income_level'], instacart_merged['age_group'], dropna = False)"
   ]
  },
  {
   "cell_type": "code",
   "execution_count": 39,
   "id": "2dd09c52",
   "metadata": {},
   "outputs": [
    {
     "data": {
      "text/html": [
       "<div>\n",
       "<style scoped>\n",
       "    .dataframe tbody tr th:only-of-type {\n",
       "        vertical-align: middle;\n",
       "    }\n",
       "\n",
       "    .dataframe tbody tr th {\n",
       "        vertical-align: top;\n",
       "    }\n",
       "\n",
       "    .dataframe thead th {\n",
       "        text-align: right;\n",
       "    }\n",
       "</style>\n",
       "<table border=\"1\" class=\"dataframe\">\n",
       "  <thead>\n",
       "    <tr style=\"text-align: right;\">\n",
       "      <th>age_group</th>\n",
       "      <th>Adult: 33-48</th>\n",
       "      <th>Older Adult: 49-64</th>\n",
       "      <th>Senior: 65+</th>\n",
       "      <th>Young Adult: 18-32</th>\n",
       "    </tr>\n",
       "    <tr>\n",
       "      <th>income_level</th>\n",
       "      <th></th>\n",
       "      <th></th>\n",
       "      <th></th>\n",
       "      <th></th>\n",
       "    </tr>\n",
       "  </thead>\n",
       "  <tbody>\n",
       "    <tr>\n",
       "      <th>Lower Level</th>\n",
       "      <td>2379170</td>\n",
       "      <td>1089267</td>\n",
       "      <td>1119276</td>\n",
       "      <td>3513086</td>\n",
       "    </tr>\n",
       "    <tr>\n",
       "      <th>Middle Level</th>\n",
       "      <td>4076876</td>\n",
       "      <td>3829181</td>\n",
       "      <td>4099537</td>\n",
       "      <td>4029424</td>\n",
       "    </tr>\n",
       "    <tr>\n",
       "      <th>Upper Level</th>\n",
       "      <td>1660179</td>\n",
       "      <td>3169258</td>\n",
       "      <td>3356138</td>\n",
       "      <td>83303</td>\n",
       "    </tr>\n",
       "  </tbody>\n",
       "</table>\n",
       "</div>"
      ],
      "text/plain": [
       "age_group     Adult: 33-48  Older Adult: 49-64  Senior: 65+  \\\n",
       "income_level                                                  \n",
       "Lower Level        2379170             1089267      1119276   \n",
       "Middle Level       4076876             3829181      4099537   \n",
       "Upper Level        1660179             3169258      3356138   \n",
       "\n",
       "age_group     Young Adult: 18-32  \n",
       "income_level                      \n",
       "Lower Level              3513086  \n",
       "Middle Level             4029424  \n",
       "Upper Level                83303  "
      ]
     },
     "execution_count": 39,
     "metadata": {},
     "output_type": "execute_result"
    }
   ],
   "source": [
    "age_income"
   ]
  },
  {
   "cell_type": "code",
   "execution_count": 40,
   "id": "3d44d6b2",
   "metadata": {},
   "outputs": [
    {
     "data": {
      "image/png": "[encoded data removed]",
      "text/plain": [
       "<Figure size 640x480 with 1 Axes>"
      ]
     },
     "metadata": {},
     "output_type": "display_data"
    }
   ],
   "source": [
    "#Creating a bar chart with age_income crosstab\n",
    "\n",
    "bar_age_income = age_income.plot(kind = 'bar', stacked = False, rot = 0, color = ['darkblue', 'teal', 'royalblue', 'yellowgreen' ])\n",
    "plt.title(\"Customers by Age and Income\", fontsize = 15)\n",
    "plt.xlabel(\"Income\", fontsize = 12)\n",
    "plt.ylabel(\"Frequency\", fontsize = 12)\n",
    "plt.legend(loc='center left', bbox_to_anchor=(1.0, 0.5))\n",
    "plt.tight_layout()"
   ]
  },
  {
   "cell_type": "code",
   "execution_count": 41,
   "id": "77671957",
   "metadata": {},
   "outputs": [],
   "source": [
    "# Exporting Customers by Age and Income bar chart into visualizations folder\n",
    "bar_age_income.figure.savefig(os.path.join(path, '04 Analysis','Visualizations', 'bar_age_income.png'))"
   ]
  }
 ],
 "metadata": {
  "kernelspec": {
   "display_name": "Python 3 (ipykernel)",
   "language": "python",
   "name": "python3"
  },
  "language_info": {
   "codemirror_mode": {
    "name": "ipython",
    "version": 3
   },
   "file_extension": ".py",
   "mimetype": "text/x-python",
   "name": "python",
   "nbconvert_exporter": "python",
   "pygments_lexer": "ipython3",
   "version": "3.11.4"
  }
 },
 "nbformat": 4,
 "nbformat_minor": 5
}
